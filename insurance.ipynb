{
  "nbformat": 4,
  "nbformat_minor": 0,
  "metadata": {
    "colab": {
      "name": "insurance.ipynb",
      "provenance": [],
      "collapsed_sections": [],
      "toc_visible": true,
      "include_colab_link": true
    },
    "kernelspec": {
      "name": "python3",
      "display_name": "Python 3"
    },
    "language_info": {
      "name": "python"
    }
  },
  "cells": [
    {
      "cell_type": "markdown",
      "metadata": {
        "id": "view-in-github",
        "colab_type": "text"
      },
      "source": [
        "<a href=\"https://colab.research.google.com/github/victor-hro/insurance-prediction/blob/main/insurance.ipynb\" target=\"_parent\"><img src=\"https://colab.research.google.com/assets/colab-badge.svg\" alt=\"Open In Colab\"/></a>"
      ]
    },
    {
      "cell_type": "markdown",
      "metadata": {
        "id": "0BJZINgGn5YY"
      },
      "source": [
        "# Importando bibliotecas\n"
      ]
    },
    {
      "cell_type": "code",
      "metadata": {
        "id": "ie2eDE0Qiwjm"
      },
      "source": [
        "import pandas as pd\n",
        "import numpy as np\n",
        "\n",
        "# visualização de dados\n",
        "import matplotlib.pyplot as plt\n",
        "import seaborn as sns\n",
        "\n",
        "sns.set_style('darkgrid')"
      ],
      "execution_count": 143,
      "outputs": []
    },
    {
      "cell_type": "markdown",
      "metadata": {
        "id": "CXy3KTX6n8fC"
      },
      "source": [
        "# Dataframe: Cardio Disease"
      ]
    },
    {
      "cell_type": "code",
      "source": [
        "from google.colab import drive\n",
        "drive.mount('/content/drive')"
      ],
      "metadata": {
        "colab": {
          "base_uri": "https://localhost:8080/"
        },
        "id": "XrD7gUxyifkD",
        "outputId": "43816291-5cc1-4fbe-cf23-2f52c077c95d"
      },
      "execution_count": 144,
      "outputs": [
        {
          "output_type": "stream",
          "name": "stdout",
          "text": [
            "Drive already mounted at /content/drive; to attempt to forcibly remount, call drive.mount(\"/content/drive\", force_remount=True).\n"
          ]
        }
      ]
    },
    {
      "cell_type": "code",
      "metadata": {
        "id": "xVioW9Dw7ZhT"
      },
      "source": [
        "# from google.colab import files\n",
        "# uploaded = files.upload()"
      ],
      "execution_count": 145,
      "outputs": []
    },
    {
      "cell_type": "code",
      "metadata": {
        "colab": {
          "base_uri": "https://localhost:8080/",
          "height": 241
        },
        "id": "rNkEaqhr7Zst",
        "outputId": "44d894fd-56f9-499f-c941-af987ba8386e"
      },
      "source": [
        "# criando o dataframe\n",
        "DATA_DIR = '/content/drive/MyDrive/Colab Notebooks/GitHub/insurance/data/insurance.csv'\n",
        "df = pd.read_csv(DATA_DIR)\n",
        "\n",
        "# visualizando o cabeçalho e printando algumas informações\n",
        "print('Linhas: ', df.shape[0])\n",
        "print('Colunas: ', df.shape[0])\n",
        "\n",
        "df.head()"
      ],
      "execution_count": 146,
      "outputs": [
        {
          "output_type": "stream",
          "name": "stdout",
          "text": [
            "Linhas:  1338\n",
            "Colunas:  1338\n"
          ]
        },
        {
          "output_type": "execute_result",
          "data": {
            "text/html": [
              "<div>\n",
              "<style scoped>\n",
              "    .dataframe tbody tr th:only-of-type {\n",
              "        vertical-align: middle;\n",
              "    }\n",
              "\n",
              "    .dataframe tbody tr th {\n",
              "        vertical-align: top;\n",
              "    }\n",
              "\n",
              "    .dataframe thead th {\n",
              "        text-align: right;\n",
              "    }\n",
              "</style>\n",
              "<table border=\"1\" class=\"dataframe\">\n",
              "  <thead>\n",
              "    <tr style=\"text-align: right;\">\n",
              "      <th></th>\n",
              "      <th>age</th>\n",
              "      <th>sex</th>\n",
              "      <th>bmi</th>\n",
              "      <th>children</th>\n",
              "      <th>smoker</th>\n",
              "      <th>region</th>\n",
              "      <th>charges</th>\n",
              "    </tr>\n",
              "  </thead>\n",
              "  <tbody>\n",
              "    <tr>\n",
              "      <th>0</th>\n",
              "      <td>19</td>\n",
              "      <td>female</td>\n",
              "      <td>27.900</td>\n",
              "      <td>0</td>\n",
              "      <td>yes</td>\n",
              "      <td>southwest</td>\n",
              "      <td>16884.92400</td>\n",
              "    </tr>\n",
              "    <tr>\n",
              "      <th>1</th>\n",
              "      <td>18</td>\n",
              "      <td>male</td>\n",
              "      <td>33.770</td>\n",
              "      <td>1</td>\n",
              "      <td>no</td>\n",
              "      <td>southeast</td>\n",
              "      <td>1725.55230</td>\n",
              "    </tr>\n",
              "    <tr>\n",
              "      <th>2</th>\n",
              "      <td>28</td>\n",
              "      <td>male</td>\n",
              "      <td>33.000</td>\n",
              "      <td>3</td>\n",
              "      <td>no</td>\n",
              "      <td>southeast</td>\n",
              "      <td>4449.46200</td>\n",
              "    </tr>\n",
              "    <tr>\n",
              "      <th>3</th>\n",
              "      <td>33</td>\n",
              "      <td>male</td>\n",
              "      <td>22.705</td>\n",
              "      <td>0</td>\n",
              "      <td>no</td>\n",
              "      <td>northwest</td>\n",
              "      <td>21984.47061</td>\n",
              "    </tr>\n",
              "    <tr>\n",
              "      <th>4</th>\n",
              "      <td>32</td>\n",
              "      <td>male</td>\n",
              "      <td>28.880</td>\n",
              "      <td>0</td>\n",
              "      <td>no</td>\n",
              "      <td>northwest</td>\n",
              "      <td>3866.85520</td>\n",
              "    </tr>\n",
              "  </tbody>\n",
              "</table>\n",
              "</div>"
            ],
            "text/plain": [
              "   age     sex     bmi  children smoker     region      charges\n",
              "0   19  female  27.900         0    yes  southwest  16884.92400\n",
              "1   18    male  33.770         1     no  southeast   1725.55230\n",
              "2   28    male  33.000         3     no  southeast   4449.46200\n",
              "3   33    male  22.705         0     no  northwest  21984.47061\n",
              "4   32    male  28.880         0     no  northwest   3866.85520"
            ]
          },
          "metadata": {},
          "execution_count": 146
        }
      ]
    },
    {
      "cell_type": "markdown",
      "metadata": {
        "id": "Cc6rgUoIrLZk"
      },
      "source": [
        "Informações sobre cada coluna:\n",
        "\n",
        "age: idade do beneficiário primário\n",
        "\n",
        "sex: sexo do contratente do seguro (Homem/Mulher)\n",
        "\n",
        "bmi: índice de massa corporal, idealmente 18,5 a 24,9\n",
        "\n",
        "children: número de filhos cobertos pelo seguro saúde / Número de dependentes\n",
        "\n",
        "smoker: fumante\n",
        "\n",
        "region: área residencial do beneficiário nos EUA, nordeste, sudeste, sudoeste, noroeste.\n",
        "\n",
        "charges: despesas médicas individuais cobradas pelo seguro saúde"
      ]
    },
    {
      "cell_type": "code",
      "source": [
        "df.info()"
      ],
      "metadata": {
        "colab": {
          "base_uri": "https://localhost:8080/"
        },
        "id": "UQmuDDtvl3eb",
        "outputId": "a2e444da-f9af-4fc9-b0d8-636306dea9b4"
      },
      "execution_count": 147,
      "outputs": [
        {
          "output_type": "stream",
          "name": "stdout",
          "text": [
            "<class 'pandas.core.frame.DataFrame'>\n",
            "RangeIndex: 1338 entries, 0 to 1337\n",
            "Data columns (total 7 columns):\n",
            " #   Column    Non-Null Count  Dtype  \n",
            "---  ------    --------------  -----  \n",
            " 0   age       1338 non-null   int64  \n",
            " 1   sex       1338 non-null   object \n",
            " 2   bmi       1338 non-null   float64\n",
            " 3   children  1338 non-null   int64  \n",
            " 4   smoker    1338 non-null   object \n",
            " 5   region    1338 non-null   object \n",
            " 6   charges   1338 non-null   float64\n",
            "dtypes: float64(2), int64(2), object(3)\n",
            "memory usage: 73.3+ KB\n"
          ]
        }
      ]
    },
    {
      "cell_type": "markdown",
      "metadata": {
        "id": "FIy7dtV7SHkm"
      },
      "source": [
        "## Removendo dados NaN e duplicatas:\n"
      ]
    },
    {
      "cell_type": "markdown",
      "metadata": {
        "id": "IIWCdlIRVO3j"
      },
      "source": [
        "### Arquivos NaN:"
      ]
    },
    {
      "cell_type": "code",
      "metadata": {
        "colab": {
          "base_uri": "https://localhost:8080/"
        },
        "id": "eEdAX_A3UQep",
        "outputId": "9d4c3d4a-bac3-4b6c-fe44-caf9c3caf258"
      },
      "source": [
        "# Faça seu código a partir dessa linha. O resultado final deverá ser identico a resposta apresentada abaixo.\n",
        "df.isna().sum()\n",
        "# Apague o comentário e e comece aqui:"
      ],
      "execution_count": 148,
      "outputs": [
        {
          "output_type": "execute_result",
          "data": {
            "text/plain": [
              "age         0\n",
              "sex         0\n",
              "bmi         0\n",
              "children    0\n",
              "smoker      0\n",
              "region      0\n",
              "charges     0\n",
              "dtype: int64"
            ]
          },
          "metadata": {},
          "execution_count": 148
        }
      ]
    },
    {
      "cell_type": "markdown",
      "metadata": {
        "id": "qS0ZvIDDVTql"
      },
      "source": [
        "### Duplicatas:"
      ]
    },
    {
      "cell_type": "code",
      "metadata": {
        "colab": {
          "base_uri": "https://localhost:8080/"
        },
        "id": "pKf-w1ENVNVB",
        "outputId": "d609efa4-7d39-4aea-931d-cc699bd63042"
      },
      "source": [
        "df.duplicated().sum()"
      ],
      "execution_count": 149,
      "outputs": [
        {
          "output_type": "execute_result",
          "data": {
            "text/plain": [
              "1"
            ]
          },
          "metadata": {},
          "execution_count": 149
        }
      ]
    },
    {
      "cell_type": "code",
      "source": [
        "print(df.shape)\n",
        "df.drop_duplicates(inplace=True)\n",
        "print(df.shape)"
      ],
      "metadata": {
        "colab": {
          "base_uri": "https://localhost:8080/"
        },
        "id": "I_wc0njKl_MN",
        "outputId": "1a96e336-0650-4437-f5fd-1f8b768a6330"
      },
      "execution_count": 150,
      "outputs": [
        {
          "output_type": "stream",
          "name": "stdout",
          "text": [
            "(1338, 7)\n",
            "(1337, 7)\n"
          ]
        }
      ]
    },
    {
      "cell_type": "markdown",
      "metadata": {
        "id": "rZ5dnHXGuOsv"
      },
      "source": [
        "\n",
        "## Análises estatísticas e visualização de dados"
      ]
    },
    {
      "cell_type": "markdown",
      "source": [
        "### Distribuição de frequências"
      ],
      "metadata": {
        "id": "VrTFAmj32YYv"
      }
    },
    {
      "cell_type": "markdown",
      "source": [
        "podemos classificar nosso conjunto de dados em dois tipos de variáveis: \n",
        "* qualitativas: sex, smoker, region\n",
        "* quantitativas: age, bmi, children, charges"
      ],
      "metadata": {
        "id": "TmezREMu2oFN"
      }
    },
    {
      "cell_type": "markdown",
      "source": [
        "#### Variáveis quantitativas"
      ],
      "metadata": {
        "id": "-yMtvo7gqlH2"
      }
    },
    {
      "cell_type": "code",
      "source": [
        "# analisando histogramas de variáveis quantitativas\n",
        "columns = ['age', 'bmi', 'charges', 'children']\n",
        "plt.figure(figsize=(15,4))\n",
        "for i, col in enumerate(columns):\n",
        "    plt.subplot(1, len(columns), i+1)\n",
        "    sns.histplot(df,x=col,kde=True);"
      ],
      "metadata": {
        "colab": {
          "base_uri": "https://localhost:8080/",
          "height": 283
        },
        "id": "xsKhlQlN2bGR",
        "outputId": "d9390d53-dfab-4556-a4cf-4d4463511d5d"
      },
      "execution_count": 151,
      "outputs": [
        {
          "output_type": "display_data",
          "data": {
            "image/png": "[encoded data removed]",
            "text/plain": [
              "<Figure size 1080x288 with 4 Axes>"
            ]
          },
          "metadata": {}
        }
      ]
    },
    {
      "cell_type": "markdown",
      "source": [
        "Após visualizar, surge as seguintes hipóteses:\n",
        "* age: há uma grande quantidade de sujeitos com 20 anos e uma quantidade menor de sujeitos com 40 anos;\n",
        "* bmi: o valor de bmi pode tender a uma média aproximada de 30;\n",
        "* charges: a frequência tende a decrescer conforme o aumento do valor;\n",
        "* children: a frequência tende a decrescer conforme o aumento do número de crianças."
      ],
      "metadata": {
        "id": "SBwKK1n23AY7"
      }
    },
    {
      "cell_type": "markdown",
      "source": [
        "Analisando o gráfico de barras contendo a quantidade de sujeitos por idade."
      ],
      "metadata": {
        "id": "Zbi1VRyc5IOa"
      }
    },
    {
      "cell_type": "code",
      "source": [
        "sns.catplot(\n",
        "        data = df,\n",
        "        x = 'age',\n",
        "        kind = \"count\",\n",
        "        aspect = 3,\n",
        "        order= df.age.value_counts().index,\n",
        "        palette='GnBu_d',\n",
        "        );"
      ],
      "metadata": {
        "colab": {
          "base_uri": "https://localhost:8080/",
          "height": 351
        },
        "id": "5cJKCbrt41Mu",
        "outputId": "96721269-9bbd-44f5-a6b5-0edf39251195"
      },
      "execution_count": 152,
      "outputs": [
        {
          "output_type": "display_data",
          "data": {
            "image/png": "[encoded data removed]",
            "text/plain": [
              "<Figure size 1080x360 with 1 Axes>"
            ]
          },
          "metadata": {}
        }
      ]
    },
    {
      "cell_type": "markdown",
      "source": [
        "\n",
        "\n",
        "✅ Percebe-se a grande quantidade de pacientes com idade entre 18 a 19 anos, validando a hipótese."
      ],
      "metadata": {
        "id": "4yMjFCom5wov"
      }
    },
    {
      "cell_type": "markdown",
      "source": [
        "Analisando a moda, mediana e a média da coluna bmi"
      ],
      "metadata": {
        "id": "Vjzb1sJ254rb"
      }
    },
    {
      "cell_type": "code",
      "source": [
        "print('moda: {:.2f}'.format(df.bmi.mode()[0]))\n",
        "print('mediana: {:.2f}'.format(df.bmi.median()))\n",
        "print('média: {:.2f}'.format(df.bmi.mean()))\n",
        "print('O valor predominante é de %.2f e a média é %.2f '% (df.bmi.mode()[0], df.bmi.median()))"
      ],
      "metadata": {
        "colab": {
          "base_uri": "https://localhost:8080/"
        },
        "id": "7Rnc3y9O6B8y",
        "outputId": "bc7e7788-1af2-4df2-a2ae-728de959b041"
      },
      "execution_count": 153,
      "outputs": [
        {
          "output_type": "stream",
          "name": "stdout",
          "text": [
            "moda: 32.30\n",
            "mediana: 30.40\n",
            "média: 30.66\n",
            "O valor predominante é de 32.30 e a média é 30.40 \n"
          ]
        }
      ]
    },
    {
      "cell_type": "markdown",
      "source": [
        "#### Variáveis qualitativas"
      ],
      "metadata": {
        "id": "Q33W_KXhqwQX"
      }
    },
    {
      "cell_type": "code",
      "source": [
        "# analisando histogramas de variáveis categóricas\n",
        "\n",
        "columns = ['smoker', 'region', 'sex']\n",
        "plt.figure(figsize=(15,4))\n",
        "for i, col in enumerate(columns):\n",
        "    plt.figure(i)\n",
        "    sns.catplot(\n",
        "        data = df,\n",
        "        x = col,\n",
        "        kind = \"count\",\n",
        "        height = 4,\n",
        "        aspect = 1.5,\n",
        "        order= df[col].value_counts().index,\n",
        "        palette='GnBu_d'\n",
        "        )\n",
        "    plt.tight_layout();"
      ],
      "metadata": {
        "colab": {
          "base_uri": "https://localhost:8080/",
          "height": 892
        },
        "id": "vRYyt_pf4n03",
        "outputId": "b25ecf6a-6547-4286-c3e2-4b66c9172393"
      },
      "execution_count": 154,
      "outputs": [
        {
          "output_type": "display_data",
          "data": {
            "text/plain": [
              "<Figure size 1080x288 with 0 Axes>"
            ]
          },
          "metadata": {}
        },
        {
          "output_type": "display_data",
          "data": {
            "text/plain": [
              "<Figure size 432x288 with 0 Axes>"
            ]
          },
          "metadata": {}
        },
        {
          "output_type": "display_data",
          "data": {
            "image/png": "[encoded data removed]",
            "text/plain": [
              "<Figure size 432x288 with 1 Axes>"
            ]
          },
          "metadata": {}
        },
        {
          "output_type": "display_data",
          "data": {
            "image/png": "[encoded data removed]",
            "text/plain": [
              "<Figure size 432x288 with 1 Axes>"
            ]
          },
          "metadata": {}
        },
        {
          "output_type": "display_data",
          "data": {
            "image/png": "[encoded data removed]",
            "text/plain": [
              "<Figure size 432x288 with 1 Axes>"
            ]
          },
          "metadata": {}
        }
      ]
    },
    {
      "cell_type": "markdown",
      "metadata": {
        "id": "u3--Q8ObCmAp"
      },
      "source": [
        "### Correlação e gráfico de dispersão"
      ]
    },
    {
      "cell_type": "code",
      "metadata": {
        "colab": {
          "base_uri": "https://localhost:8080/",
          "height": 269
        },
        "id": "4LvfSTkT8hHD",
        "outputId": "99bc798a-6905-41db-fb8f-a340f4ab8a52"
      },
      "source": [
        "corr = df.corr()\n",
        "ax = sns.heatmap(corr,  cmap = sns.color_palette(\"ch:s=.25,rot=-.25\", as_cmap=True) , annot= True);"
      ],
      "execution_count": 155,
      "outputs": [
        {
          "output_type": "display_data",
          "data": {
            "image/png": "[encoded data removed]",
            "text/plain": [
              "<Figure size 432x288 with 2 Axes>"
            ]
          },
          "metadata": {}
        }
      ]
    },
    {
      "cell_type": "markdown",
      "metadata": {
        "id": "182lNroL9QU2"
      },
      "source": [
        "Podemos notar que as despesas médicas está mais correlacionada com a idade com o bmi do sujeito. Já o número de crianças apresenta apenas 6% de correlação."
      ]
    },
    {
      "cell_type": "markdown",
      "source": [
        "#### custo relacionado a pacientes fumantes e não fumantes"
      ],
      "metadata": {
        "id": "wlUBYhQrq6UE"
      }
    },
    {
      "cell_type": "code",
      "metadata": {
        "colab": {
          "base_uri": "https://localhost:8080/",
          "height": 588
        },
        "id": "c-tig2wE-Rzn",
        "outputId": "11a64d94-6c75-4e01-e6b2-29ee853c1ee9"
      },
      "source": [
        "# analisando o gráfico de dispersão para pacientes fumantes e não fumantes, relacionados com os valores de bmi e charges.\n",
        "\n",
        "# dimensões da figura\n",
        "plt.figure(figsize=(8,6))\n",
        "\n",
        "# gráfico de dispersão\n",
        "sns.scatterplot(\n",
        "    data=df,\n",
        "    x='bmi',\n",
        "    y='charges',\n",
        "    palette='viridis',\n",
        "    hue='smoker'\n",
        "    );\n",
        "\n",
        "plt.title('BMI vs. Charges [fumantes / não fumantes]')\n",
        "plt.tight_layout()"
      ],
      "execution_count": 156,
      "outputs": [
        {
          "output_type": "error",
          "ename": "TypeError",
          "evalue": "ignored",
          "traceback": [
            "\u001b[0;31m---------------------------------------------------------------------------\u001b[0m",
            "\u001b[0;31mTypeError\u001b[0m                                 Traceback (most recent call last)",
            "\u001b[0;32m<ipython-input-156-16a70eba4f95>\u001b[0m in \u001b[0;36m<module>\u001b[0;34m()\u001b[0m\n\u001b[1;32m     13\u001b[0m     );\n\u001b[1;32m     14\u001b[0m \u001b[0;34m\u001b[0m\u001b[0m\n\u001b[0;32m---> 15\u001b[0;31m \u001b[0mplt\u001b[0m\u001b[0;34m.\u001b[0m\u001b[0mtitle\u001b[0m\u001b[0;34m(\u001b[0m\u001b[0;34m'BMI vs. Charges [fumantes / não fumantes]'\u001b[0m\u001b[0;34m)\u001b[0m\u001b[0;34m\u001b[0m\u001b[0;34m\u001b[0m\u001b[0m\n\u001b[0m\u001b[1;32m     16\u001b[0m \u001b[0mplt\u001b[0m\u001b[0;34m.\u001b[0m\u001b[0mtight_layout\u001b[0m\u001b[0;34m(\u001b[0m\u001b[0;34m)\u001b[0m\u001b[0;34m\u001b[0m\u001b[0;34m\u001b[0m\u001b[0m\n",
            "\u001b[0;31mTypeError\u001b[0m: 'str' object is not callable"
          ]
        },
        {
          "output_type": "display_data",
          "data": {
            "image/png": "[encoded data removed]",
            "text/plain": [
              "<Figure size 576x432 with 1 Axes>"
            ]
          },
          "metadata": {}
        }
      ]
    },
    {
      "cell_type": "markdown",
      "source": [
        "✅ Pode-se perceber que o valor de charges é maior para pacientes com bmi acima de 30 - que consequentemente é a média do conjunto. O valor se torna maior ainda quando há ocorrência de sujeitos fumantes."
      ],
      "metadata": {
        "id": "Ox8S5w1AyYii"
      }
    },
    {
      "cell_type": "code",
      "metadata": {
        "id": "ijT2SIFTAnl6"
      },
      "source": [
        "# dimensões da figura\n",
        "plt.figure(figsize=(8,6))\n",
        "\n",
        "# gráfico de dispersão\n",
        "sns.scatterplot(\n",
        "    data=df,\n",
        "    x='age',\n",
        "    y='charges',\n",
        "    palette='viridis',\n",
        "    hue='smoker'\n",
        "    );\n",
        "\n",
        "plt.title('Age vs. Charges [fumantes / não fumantes]')\n",
        "plt.tight_layout()"
      ],
      "execution_count": null,
      "outputs": []
    },
    {
      "cell_type": "markdown",
      "metadata": {
        "id": "Igi-M2SI_Q4C"
      },
      "source": [
        "✅ Pode-se notar que o valor tende a crescer conforme a idade, porém fica ainda maior caso haja pacientes fumantes. \n",
        "\n"
      ]
    },
    {
      "cell_type": "code",
      "metadata": {
        "id": "uGSmw6PJBgY3"
      },
      "source": [
        "# dimensões da figura\n",
        "plt.figure(figsize=(8,6))\n",
        "\n",
        "# gráfico de dispersão\n",
        "sns.scatterplot(\n",
        "    data=df,\n",
        "    x='children',\n",
        "    y='charges',\n",
        "    palette='GnBu_d',\n",
        "    hue='smoker'\n",
        "    );\n",
        "\n",
        "plt.title('Children vs. Charges [fumantes / não fumantes]')\n",
        "plt.tight_layout()"
      ],
      "execution_count": null,
      "outputs": []
    },
    {
      "cell_type": "markdown",
      "source": [
        "✅ Conforme analisamos anteriormente, as despesas estão descorrelacionadas com o número de crianças. Visualmente não tem como definir que o número de crianças está interferindo no valor, apenas podem ser criadas hipóteses do porquê os sujeitos com 4 e 5 crianças contém um menor valor."
      ],
      "metadata": {
        "id": "EPTU5P8W8YW5"
      }
    },
    {
      "cell_type": "markdown",
      "source": [
        "### Medidas separatrizes"
      ],
      "metadata": {
        "id": "qsjkXcmi77pP"
      }
    },
    {
      "cell_type": "code",
      "source": [
        "data_col_smoker = df.groupby('smoker').describe()\n",
        "data_col_smoker"
      ],
      "metadata": {
        "id": "6CfxLN79ua4N"
      },
      "execution_count": null,
      "outputs": []
    },
    {
      "cell_type": "code",
      "source": [
        "# gráfico de dispersão\n",
        "sns.boxplot(\n",
        "    data=df,\n",
        "    x='bmi',\n",
        "    y='smoker',\n",
        "    orient='h'\n",
        "    );"
      ],
      "metadata": {
        "id": "zxFCvybu7-C4"
      },
      "execution_count": null,
      "outputs": []
    },
    {
      "cell_type": "code",
      "source": [
        "data_col_smoker['bmi']"
      ],
      "metadata": {
        "id": "Urn6jcKdtbx5"
      },
      "execution_count": null,
      "outputs": []
    },
    {
      "cell_type": "markdown",
      "source": [
        "✅ Pode haver outliers. É importante um estudo melhor sobre a relação entre bmi e fumantes.\n",
        "\n",
        "✅ 75% dos sujeitos fumantes e não fumantes coincidentemente estão com bmi acima de 26, mediana aproximadamente a 30 e desvio padrão aproximado de 6.\n",
        "\n",
        "✅ Alguns sujeitos podem apresentar doenças que impossibilitam de fumar, porém essas informações não foram disponibilizadas no conjunto de dados."
      ],
      "metadata": {
        "id": "zuKvZHDhsg4V"
      }
    },
    {
      "cell_type": "code",
      "source": [
        "# gráfico de dispersão\n",
        "sns.boxplot(\n",
        "    data=df,\n",
        "    x='age',\n",
        "    y='smoker',\n",
        "    orient='h'\n",
        "    );"
      ],
      "metadata": {
        "id": "GfjzC6ul7-FP"
      },
      "execution_count": null,
      "outputs": []
    },
    {
      "cell_type": "code",
      "source": [
        "data_col_smoker['age']"
      ],
      "metadata": {
        "id": "fZcWjMXtxCtb"
      },
      "execution_count": null,
      "outputs": []
    },
    {
      "cell_type": "code",
      "source": [
        "df[['age','bmi']].corr()"
      ],
      "metadata": {
        "id": "TludpiLKxvsg"
      },
      "execution_count": null,
      "outputs": []
    },
    {
      "cell_type": "markdown",
      "source": [
        "✅ a mediana é aproximada;\n",
        "\n",
        "✅ podemos perceber que a metade dos pacientes fumantes está com uma distribuição de idade entre 27 anos a 49.\n",
        "\n",
        "✅ bmi tem uma correlação de apenas 10% relacionada a idade."
      ],
      "metadata": {
        "id": "nhLbhsdS8cB-"
      }
    },
    {
      "cell_type": "code",
      "source": [
        "# gráfico de dispersão\n",
        "sns.boxplot(\n",
        "    data=df,\n",
        "    x='charges',\n",
        "    y='smoker',\n",
        "    orient='h'\n",
        "    );"
      ],
      "metadata": {
        "id": "77N8xEAG7-Nr"
      },
      "execution_count": null,
      "outputs": []
    },
    {
      "cell_type": "markdown",
      "source": [
        "✅ Não podemos considerar como um fator isolado, apenas pelo fato do paciente fumar, pois existem outras doenças que impossibilitam o sujeito de ser fumante, como câncer e leucêma, que consequentemente fazem as despesas aumentarem. Como não temos essas informações, há a possibilidade de considerarmos que o conjunto possui outliers."
      ],
      "metadata": {
        "id": "IcJqvIuZzBGM"
      }
    },
    {
      "cell_type": "code",
      "source": [
        "# gráfico de dispersão\n",
        "sns.boxplot(\n",
        "    data=df,\n",
        "    x='bmi',\n",
        "    y='smoker',\n",
        "    orient='h'\n",
        "    );"
      ],
      "metadata": {
        "id": "1CUZBC1z876C"
      },
      "execution_count": null,
      "outputs": []
    },
    {
      "cell_type": "markdown",
      "source": [
        "✅ Há alguns outliers que merecem estudo posterior."
      ],
      "metadata": {
        "id": "aS7o2Gyyzs8X"
      }
    },
    {
      "cell_type": "markdown",
      "metadata": {
        "id": "rfYg9_wCE-Zl"
      },
      "source": [
        "# Modelo de Machine Learning"
      ]
    },
    {
      "cell_type": "markdown",
      "metadata": {
        "id": "3HmWqV59Hq9b"
      },
      "source": [
        "## Preparando os dados"
      ]
    },
    {
      "cell_type": "code",
      "metadata": {
        "id": "Fdjm30mJGESZ"
      },
      "source": [
        "df.head(2)"
      ],
      "execution_count": null,
      "outputs": []
    },
    {
      "cell_type": "markdown",
      "source": [
        "### Convertendo algumas variáveis para dados categoricos"
      ],
      "metadata": {
        "id": "2XBG82sQz7R0"
      }
    },
    {
      "cell_type": "code",
      "metadata": {
        "id": "rluPDvvMWGtl"
      },
      "source": [
        "from sklearn.preprocessing import LabelEncoder\n",
        "\n",
        "le = LabelEncoder()\n",
        "\n",
        "train_df = df.copy()\n",
        "# Convertendo as colunas categóricas para arrays de valores inteiros.\n",
        "train_df.sex = le.fit_transform(train_df.sex)\n",
        "train_df.smoker = le.fit_transform(train_df.smoker)\n",
        "train_df.region = le.fit_transform(train_df.region)"
      ],
      "execution_count": null,
      "outputs": []
    },
    {
      "cell_type": "code",
      "metadata": {
        "id": "Z2V0QxIyWGwB"
      },
      "source": [
        "print(f'Quantidade de rótulos para a coluna sex: {train_df.sex.nunique()}')\n",
        "print(f'Quantidade de rótulos para a coluna smoker: {train_df.smoker.nunique()}')\n",
        "print(f'Quantidade de rótulos para a coluna region: {train_df.region.nunique()}')\n",
        "\n",
        "train_df.head()"
      ],
      "execution_count": null,
      "outputs": []
    },
    {
      "cell_type": "code",
      "metadata": {
        "id": "JZVx034-BkvX"
      },
      "source": [
        "# escolhendo todas as features, exceto charges, que é nosso target\n",
        "X = train_df.drop(columns=['charges'], axis=1)\n",
        "\n",
        "# analisando alguns valores de X\n",
        "X.shape"
      ],
      "execution_count": null,
      "outputs": []
    },
    {
      "cell_type": "code",
      "metadata": {
        "id": "kvLBP7ZVCUmM"
      },
      "source": [
        "y = train_df['charges']\n",
        "\n",
        "# analisando alguns valores de y\n",
        "y.shape"
      ],
      "execution_count": null,
      "outputs": []
    },
    {
      "cell_type": "markdown",
      "metadata": {
        "id": "1CpuD7sJDm5n"
      },
      "source": [
        "Agora que já temos nossos valores de X e y bem definidos, poderemos dividir em conjunto de dados para treinamento, validação e teste. Para isso, vamos utilizar 60% para treinamento e 20% para validação e 20% para teste."
      ]
    },
    {
      "cell_type": "code",
      "metadata": {
        "id": "wnwkcHqmBOst"
      },
      "source": [
        "from sklearn.model_selection import train_test_split"
      ],
      "execution_count": null,
      "outputs": []
    },
    {
      "cell_type": "code",
      "metadata": {
        "id": "bWTLeNuiBbAq"
      },
      "source": [
        "X_train, X_test, y_train, y_test = train_test_split(X, y, test_size=0.2, random_state=0)\n",
        "X_train, X_val, y_train, y_val = train_test_split(X_train, y_train, test_size=0.2, random_state=0)\n",
        "\n",
        "print(X_train.shape)\n",
        "print(y_train.shape)\n",
        "print()\n",
        "print(X_val.shape)\n",
        "print(y_val.shape)\n",
        "print()\n",
        "print(X_test.shape)\n",
        "print(y_test.shape)"
      ],
      "execution_count": null,
      "outputs": []
    },
    {
      "cell_type": "markdown",
      "metadata": {
        "id": "mYAbV9AnHhu3"
      },
      "source": [
        "## Treinando o modelo"
      ]
    },
    {
      "cell_type": "code",
      "metadata": {
        "id": "rBy4kFLjBj7g"
      },
      "source": [
        "from sklearn.linear_model import LogisticRegression\n",
        "from xgboost import XGBRegressor\n",
        "from sklearn.ensemble import GradientBoostingRegressor"
      ],
      "execution_count": null,
      "outputs": []
    },
    {
      "cell_type": "code",
      "metadata": {
        "id": "M6TU_3cjEQ-O"
      },
      "source": [
        "# instanciando a função\n",
        "model = XGBRegressor()\n",
        "\n",
        "# treinando\n",
        "model.fit(X_train, y_train)"
      ],
      "execution_count": null,
      "outputs": []
    },
    {
      "cell_type": "code",
      "metadata": {
        "id": "0ShW4GyFEsn-"
      },
      "source": [
        "# from sklearn.metrics import mean_squared_error\n",
        "\n",
        "score_treinamento = model.score(X_train, y_train)\n",
        "score_teste = model.score(X_test, y_test)\n",
        "print(\n",
        "    f'Score do conjunto de treinamento: {score_treinamento}')\n",
        "print(\n",
        "    f'Score do conjunto de teste: {score_teste}')"
      ],
      "execution_count": null,
      "outputs": []
    },
    {
      "cell_type": "code",
      "metadata": {
        "id": "0-mP1aHRL74u"
      },
      "source": [
        "def plot_regression(y_true, y_pred):\n",
        "    \n",
        "    y_true = y_true.to_numpy()\n",
        "    idx = y_true.argsort()\n",
        "\n",
        "    plt.figure(figsize=(8,6))\n",
        "    plt.plot(y_true[idx], y_true[idx], 'b-')\n",
        "    plt.plot(y_true, y_pred, 'r.')\n",
        "\n",
        "    plt.xaxis= 'y_true'\n",
        "    plt.yaxis= 'y_pred'\n",
        "    plt.title= 'Erro residual'\n",
        "\n",
        "    plt.tight_layout()\n",
        "\n",
        "pred_test = model.predict(X_test)\n",
        "plot_regression(y_test, pred_test)"
      ],
      "execution_count": null,
      "outputs": []
    },
    {
      "cell_type": "code",
      "metadata": {
        "id": "sN9u92SFL0Qi"
      },
      "source": [
        "# Erro residual\n",
        "plt.figure(figsize=(8,6))\n",
        "\n",
        "ax = sns.distplot((y_test- pred_test), color='b')\n",
        "\n",
        "ax.set_xlabel('erro')\n",
        "ax.set_ylabel('densidade')\n",
        "ax.set_title('Erro residual\\nmédia:{:.2f}'.format(np.mean((y_test- pred_test))))\n",
        "\n",
        "plt.axvline(np.mean((y_test- pred_test)), color='black')\n",
        "plt.set_style = 'dashed'\n",
        "plt.set_legend = 'média'\n",
        "\n",
        "plt.tight_layout();"
      ],
      "execution_count": null,
      "outputs": []
    },
    {
      "cell_type": "markdown",
      "source": [
        "# Removendo outliers e treinando novamente"
      ],
      "metadata": {
        "id": "VWxr68U02hVZ"
      }
    },
    {
      "cell_type": "markdown",
      "source": [
        "Após as análises feitas, consideramos que os valores acima de 20k, para pacientes não fumantes, não condizem com a distribuição do conjunto. Chegamos a essa conclusão apenas pelo fato de não haver outras informações sobre o estado físico e mental do paciente."
      ],
      "metadata": {
        "id": "ygheNN262rD5"
      }
    },
    {
      "cell_type": "code",
      "source": [
        "# gráfico de dispersão\n",
        "sns.boxplot(\n",
        "    data=df,\n",
        "    x='charges',\n",
        "    y='smoker',\n",
        "    orient='h'\n",
        "    );"
      ],
      "metadata": {
        "id": "txikSWID2pWA"
      },
      "execution_count": null,
      "outputs": []
    },
    {
      "cell_type": "code",
      "source": [
        "df.drop(df.loc[(df.smoker == 'no') & (df.charges>20000)].index, inplace=True)"
      ],
      "metadata": {
        "id": "xldQfcCP2gj1"
      },
      "execution_count": null,
      "outputs": []
    },
    {
      "cell_type": "code",
      "source": [
        "# gráfico de dispersão\n",
        "sns.boxplot(\n",
        "    data=df,\n",
        "    x='charges',\n",
        "    y='smoker',\n",
        "    orient='h'\n",
        "    );"
      ],
      "metadata": {
        "id": "U_asurHJ3aXc"
      },
      "execution_count": null,
      "outputs": []
    },
    {
      "cell_type": "markdown",
      "source": [
        "# Treinando sem as outliers"
      ],
      "metadata": {
        "id": "jUMg0z_C3fmb"
      }
    },
    {
      "cell_type": "code",
      "source": [
        "from sklearn.preprocessing import LabelEncoder\n",
        "\n",
        "le = LabelEncoder()\n",
        "\n",
        "train_df = df.copy()\n",
        "# Convertendo as colunas categóricas para arrays de valores inteiros.\n",
        "train_df.sex = le.fit_transform(train_df.sex)\n",
        "train_df.smoker = le.fit_transform(train_df.smoker)\n",
        "train_df.region = le.fit_transform(train_df.region)"
      ],
      "metadata": {
        "id": "CxoRinxu3fK9"
      },
      "execution_count": null,
      "outputs": []
    },
    {
      "cell_type": "code",
      "source": [
        "# escolhendo todas as features, exceto charges, que é nosso target\n",
        "X = train_df.drop(columns=['charges'], axis=1)\n",
        "y = train_df['charges']\n",
        "\n",
        "X.shape, y.shape"
      ],
      "metadata": {
        "id": "anjLbGjP3ho0"
      },
      "execution_count": null,
      "outputs": []
    },
    {
      "cell_type": "code",
      "source": [
        "X_train, X_test, y_train, y_test = train_test_split(X, y, test_size=0.2, random_state=0)\n",
        "X_train, X_val, y_train, y_val = train_test_split(X_train, y_train, test_size=0.2, random_state=0)\n",
        "\n",
        "print(X_train.shape)\n",
        "print(y_train.shape)\n",
        "print()\n",
        "print(X_val.shape)\n",
        "print(y_val.shape)\n",
        "print()\n",
        "print(X_test.shape)\n",
        "print(y_test.shape)"
      ],
      "metadata": {
        "id": "_VMS4tcT3tNs"
      },
      "execution_count": null,
      "outputs": []
    },
    {
      "cell_type": "code",
      "source": [
        "# instanciando a função\n",
        "model = XGBRegressor()\n",
        "\n",
        "# treinando\n",
        "model.fit(X_train, y_train)\n",
        "\n",
        "score_treinamento = model.score(X_train, y_train)\n",
        "score_teste = model.score(X_test, y_test)\n",
        "print(\n",
        "    f'Score do conjunto de treinamento: {score_treinamento}')\n",
        "print(\n",
        "    f'Score do conjunto de teste: {score_teste}')"
      ],
      "metadata": {
        "id": "aJaMaKBC3wT2"
      },
      "execution_count": null,
      "outputs": []
    },
    {
      "cell_type": "code",
      "source": [
        "pred_test = model.predict(X_test)\n",
        "plot_regression(y_test, pred_test)"
      ],
      "metadata": {
        "id": "U5p38iHi3t6k"
      },
      "execution_count": null,
      "outputs": []
    },
    {
      "cell_type": "code",
      "source": [
        "# Erro residual\n",
        "plt.figure(figsize=(8,6))\n",
        "\n",
        "ax = sns.distplot((y_test- pred_test), color='b')\n",
        "\n",
        "ax.set_xlabel('erro')\n",
        "ax.set_ylabel('densidade')\n",
        "ax.set_title('Erro residual\\nmédia:{:.2f}'.format(np.mean((y_test- pred_test))))\n",
        "\n",
        "plt.axvline(np.mean((y_test- pred_test)), color='black')\n",
        "plt.set_style = 'dashed'\n",
        "plt.set_legend = 'média'\n",
        "\n",
        "plt.tight_layout();"
      ],
      "metadata": {
        "id": "KXVGi2l-33he"
      },
      "execution_count": null,
      "outputs": []
    }
  ]
}