{
 "cells": [
  {
   "cell_type": "code",
   "execution_count": 73,
   "metadata": {},
   "outputs": [],
   "source": [
    "import pandas as pd\n",
    "import numpy as np\n",
    "\n",
    "from sklearn.preprocessing import StandardScaler\n",
    "from sklearn.model_selection import train_test_split\n",
    "from sklearn.pipeline import Pipeline\n",
    "from category_encoders import TargetEncoder\n",
    "from sklearn.compose import ColumnTransformer\n",
    "from sklearn.model_selection import cross_val_score, KFold\n",
    "from sklearn.metrics import mean_absolute_error, mean_squared_error, explained_variance_score\n",
    "from xgboost import XGBRegressor\n",
    "from sklearn.model_selection import GridSearchCV\n",
    "\n",
    "import warnings\n",
    "warnings.filterwarnings(\"ignore\", category=FutureWarning)"
   ]
  },
  {
   "cell_type": "code",
   "execution_count": 74,
   "metadata": {},
   "outputs": [],
   "source": [
    "SEED = 42"
   ]
  },
  {
   "cell_type": "markdown",
   "metadata": {},
   "source": [
    "# Load"
   ]
  },
  {
   "cell_type": "code",
   "execution_count": 75,
   "metadata": {},
   "outputs": [
    {
     "name": "stdout",
     "output_type": "stream",
     "text": [
      "Linhas:  1338\n",
      "Colunas:  1338\n"
     ]
    },
    {
     "data": {
      "text/html": [
       "<div>\n",
       "<style scoped>\n",
       "    .dataframe tbody tr th:only-of-type {\n",
       "        vertical-align: middle;\n",
       "    }\n",
       "\n",
       "    .dataframe tbody tr th {\n",
       "        vertical-align: top;\n",
       "    }\n",
       "\n",
       "    .dataframe thead th {\n",
       "        text-align: right;\n",
       "    }\n",
       "</style>\n",
       "<table border=\"1\" class=\"dataframe\">\n",
       "  <thead>\n",
       "    <tr style=\"text-align: right;\">\n",
       "      <th></th>\n",
       "      <th>age</th>\n",
       "      <th>sex</th>\n",
       "      <th>bmi</th>\n",
       "      <th>children</th>\n",
       "      <th>smoker</th>\n",
       "      <th>region</th>\n",
       "      <th>charges</th>\n",
       "    </tr>\n",
       "  </thead>\n",
       "  <tbody>\n",
       "    <tr>\n",
       "      <th>0</th>\n",
       "      <td>19</td>\n",
       "      <td>female</td>\n",
       "      <td>27.900</td>\n",
       "      <td>0</td>\n",
       "      <td>yes</td>\n",
       "      <td>southwest</td>\n",
       "      <td>16884.92400</td>\n",
       "    </tr>\n",
       "    <tr>\n",
       "      <th>1</th>\n",
       "      <td>18</td>\n",
       "      <td>male</td>\n",
       "      <td>33.770</td>\n",
       "      <td>1</td>\n",
       "      <td>no</td>\n",
       "      <td>southeast</td>\n",
       "      <td>1725.55230</td>\n",
       "    </tr>\n",
       "    <tr>\n",
       "      <th>2</th>\n",
       "      <td>28</td>\n",
       "      <td>male</td>\n",
       "      <td>33.000</td>\n",
       "      <td>3</td>\n",
       "      <td>no</td>\n",
       "      <td>southeast</td>\n",
       "      <td>4449.46200</td>\n",
       "    </tr>\n",
       "    <tr>\n",
       "      <th>3</th>\n",
       "      <td>33</td>\n",
       "      <td>male</td>\n",
       "      <td>22.705</td>\n",
       "      <td>0</td>\n",
       "      <td>no</td>\n",
       "      <td>northwest</td>\n",
       "      <td>21984.47061</td>\n",
       "    </tr>\n",
       "    <tr>\n",
       "      <th>4</th>\n",
       "      <td>32</td>\n",
       "      <td>male</td>\n",
       "      <td>28.880</td>\n",
       "      <td>0</td>\n",
       "      <td>no</td>\n",
       "      <td>northwest</td>\n",
       "      <td>3866.85520</td>\n",
       "    </tr>\n",
       "  </tbody>\n",
       "</table>\n",
       "</div>"
      ],
      "text/plain": [
       "   age     sex     bmi  children smoker     region      charges\n",
       "0   19  female  27.900         0    yes  southwest  16884.92400\n",
       "1   18    male  33.770         1     no  southeast   1725.55230\n",
       "2   28    male  33.000         3     no  southeast   4449.46200\n",
       "3   33    male  22.705         0     no  northwest  21984.47061\n",
       "4   32    male  28.880         0     no  northwest   3866.85520"
      ]
     },
     "execution_count": 75,
     "metadata": {},
     "output_type": "execute_result"
    }
   ],
   "source": [
    "# criando o dataframe\n",
    "DATA_DIR = 'data/insurance.csv'\n",
    "df = pd.read_csv(DATA_DIR)\n",
    "\n",
    "# visualizando o cabeçalho e printando algumas informações\n",
    "print('Linhas: ', df.shape[0])\n",
    "print('Colunas: ', df.shape[0])\n",
    "\n",
    "df.head()"
   ]
  },
  {
   "cell_type": "markdown",
   "metadata": {},
   "source": [
    "# Split Dataset"
   ]
  },
  {
   "cell_type": "code",
   "execution_count": 76,
   "metadata": {},
   "outputs": [
    {
     "name": "stdout",
     "output_type": "stream",
     "text": [
      "Training set shape: (936, 6) (936,)\n",
      "Test set shape: (402, 6) (402,)\n"
     ]
    }
   ],
   "source": [
    "X = df.drop(columns=['charges'], axis=1)\n",
    "y = df['charges']\n",
    "\n",
    "X_train, X_test, y_train, y_test = train_test_split(X, y, test_size=0.3, random_state=SEED)\n",
    "\n",
    "print(\"Training set shape:\", X_train.shape, y_train.shape)\n",
    "# print(\"Validation set shape:\", X_val.shape, y_val.shape)\n",
    "print(\"Test set shape:\", X_test.shape, y_test.shape)"
   ]
  },
  {
   "cell_type": "markdown",
   "metadata": {},
   "source": [
    "# Pipeline"
   ]
  },
  {
   "cell_type": "code",
   "execution_count": 77,
   "metadata": {},
   "outputs": [
    {
     "name": "stdout",
     "output_type": "stream",
     "text": [
      "Categorical columns: ['sex', 'smoker', 'region']\n",
      "Numerical columns: ['age', 'bmi', 'children']\n"
     ]
    }
   ],
   "source": [
    "# Identify categorical and numerical columns\n",
    "categorical_cols = X_train.select_dtypes(include=['object']).columns.tolist()\n",
    "numerical_cols = X_train.select_dtypes(include=['number']).columns.tolist()\n",
    "\n",
    "print(\"Categorical columns:\", categorical_cols)\n",
    "print(\"Numerical columns:\", numerical_cols)"
   ]
  },
  {
   "cell_type": "code",
   "execution_count": 78,
   "metadata": {},
   "outputs": [],
   "source": [
    "# Create the column transformer\n",
    "encoder = TargetEncoder(min_samples_leaf=1)\n",
    "\n",
    "preprocessor = ColumnTransformer(\n",
    "    transformers=[\n",
    "        ('target_encoder', TargetEncoder(), categorical_cols),\n",
    "        ('scaler', StandardScaler(), numerical_cols)\n",
    "    ])"
   ]
  },
  {
   "cell_type": "markdown",
   "metadata": {},
   "source": [
    "# Training"
   ]
  },
  {
   "cell_type": "markdown",
   "metadata": {},
   "source": [
    "## Dummy Model"
   ]
  },
  {
   "cell_type": "code",
   "execution_count": 79,
   "metadata": {},
   "outputs": [],
   "source": [
    "from sklearn.dummy import DummyRegressor"
   ]
  },
  {
   "cell_type": "code",
   "execution_count": 80,
   "metadata": {},
   "outputs": [
    {
     "data": {
      "text/html": [
       "<style>#sk-container-id-11 {color: black;background-color: white;}#sk-container-id-11 pre{padding: 0;}#sk-container-id-11 div.sk-toggleable {background-color: white;}#sk-container-id-11 label.sk-toggleable__label {cursor: pointer;display: block;width: 100%;margin-bottom: 0;padding: 0.3em;box-sizing: border-box;text-align: center;}#sk-container-id-11 label.sk-toggleable__label-arrow:before {content: \"▸\";float: left;margin-right: 0.25em;color: #696969;}#sk-container-id-11 label.sk-toggleable__label-arrow:hover:before {color: black;}#sk-container-id-11 div.sk-estimator:hover label.sk-toggleable__label-arrow:before {color: black;}#sk-container-id-11 div.sk-toggleable__content {max-height: 0;max-width: 0;overflow: hidden;text-align: left;background-color: #f0f8ff;}#sk-container-id-11 div.sk-toggleable__content pre {margin: 0.2em;color: black;border-radius: 0.25em;background-color: #f0f8ff;}#sk-container-id-11 input.sk-toggleable__control:checked~div.sk-toggleable__content {max-height: 200px;max-width: 100%;overflow: auto;}#sk-container-id-11 input.sk-toggleable__control:checked~label.sk-toggleable__label-arrow:before {content: \"▾\";}#sk-container-id-11 div.sk-estimator input.sk-toggleable__control:checked~label.sk-toggleable__label {background-color: #d4ebff;}#sk-container-id-11 div.sk-label input.sk-toggleable__control:checked~label.sk-toggleable__label {background-color: #d4ebff;}#sk-container-id-11 input.sk-hidden--visually {border: 0;clip: rect(1px 1px 1px 1px);clip: rect(1px, 1px, 1px, 1px);height: 1px;margin: -1px;overflow: hidden;padding: 0;position: absolute;width: 1px;}#sk-container-id-11 div.sk-estimator {font-family: monospace;background-color: #f0f8ff;border: 1px dotted black;border-radius: 0.25em;box-sizing: border-box;margin-bottom: 0.5em;}#sk-container-id-11 div.sk-estimator:hover {background-color: #d4ebff;}#sk-container-id-11 div.sk-parallel-item::after {content: \"\";width: 100%;border-bottom: 1px solid gray;flex-grow: 1;}#sk-container-id-11 div.sk-label:hover label.sk-toggleable__label {background-color: #d4ebff;}#sk-container-id-11 div.sk-serial::before {content: \"\";position: absolute;border-left: 1px solid gray;box-sizing: border-box;top: 0;bottom: 0;left: 50%;z-index: 0;}#sk-container-id-11 div.sk-serial {display: flex;flex-direction: column;align-items: center;background-color: white;padding-right: 0.2em;padding-left: 0.2em;position: relative;}#sk-container-id-11 div.sk-item {position: relative;z-index: 1;}#sk-container-id-11 div.sk-parallel {display: flex;align-items: stretch;justify-content: center;background-color: white;position: relative;}#sk-container-id-11 div.sk-item::before, #sk-container-id-11 div.sk-parallel-item::before {content: \"\";position: absolute;border-left: 1px solid gray;box-sizing: border-box;top: 0;bottom: 0;left: 50%;z-index: -1;}#sk-container-id-11 div.sk-parallel-item {display: flex;flex-direction: column;z-index: 1;position: relative;background-color: white;}#sk-container-id-11 div.sk-parallel-item:first-child::after {align-self: flex-end;width: 50%;}#sk-container-id-11 div.sk-parallel-item:last-child::after {align-self: flex-start;width: 50%;}#sk-container-id-11 div.sk-parallel-item:only-child::after {width: 0;}#sk-container-id-11 div.sk-dashed-wrapped {border: 1px dashed gray;margin: 0 0.4em 0.5em 0.4em;box-sizing: border-box;padding-bottom: 0.4em;background-color: white;}#sk-container-id-11 div.sk-label label {font-family: monospace;font-weight: bold;display: inline-block;line-height: 1.2em;}#sk-container-id-11 div.sk-label-container {text-align: center;}#sk-container-id-11 div.sk-container {/* jupyter's `normalize.less` sets `[hidden] { display: none; }` but bootstrap.min.css set `[hidden] { display: none !important; }` so we also need the `!important` here to be able to override the default hidden behavior on the sphinx rendered scikit-learn.org. See: https://github.com/scikit-learn/scikit-learn/issues/21755 */display: inline-block !important;position: relative;}#sk-container-id-11 div.sk-text-repr-fallback {display: none;}</style><div id=\"sk-container-id-11\" class=\"sk-top-container\"><div class=\"sk-text-repr-fallback\"><pre>Pipeline(steps=[(&#x27;preprocessor&#x27;,\n",
       "                 ColumnTransformer(transformers=[(&#x27;target_encoder&#x27;,\n",
       "                                                  TargetEncoder(),\n",
       "                                                  [&#x27;sex&#x27;, &#x27;smoker&#x27;, &#x27;region&#x27;]),\n",
       "                                                 (&#x27;scaler&#x27;, StandardScaler(),\n",
       "                                                  [&#x27;age&#x27;, &#x27;bmi&#x27;,\n",
       "                                                   &#x27;children&#x27;])])),\n",
       "                (&#x27;model&#x27;, DummyRegressor())])</pre><b>In a Jupyter environment, please rerun this cell to show the HTML representation or trust the notebook. <br />On GitHub, the HTML representation is unable to render, please try loading this page with nbviewer.org.</b></div><div class=\"sk-container\" hidden><div class=\"sk-item sk-dashed-wrapped\"><div class=\"sk-label-container\"><div class=\"sk-label sk-toggleable\"><input class=\"sk-toggleable__control sk-hidden--visually\" id=\"sk-estimator-id-74\" type=\"checkbox\" ><label for=\"sk-estimator-id-74\" class=\"sk-toggleable__label sk-toggleable__label-arrow\">Pipeline</label><div class=\"sk-toggleable__content\"><pre>Pipeline(steps=[(&#x27;preprocessor&#x27;,\n",
       "                 ColumnTransformer(transformers=[(&#x27;target_encoder&#x27;,\n",
       "                                                  TargetEncoder(),\n",
       "                                                  [&#x27;sex&#x27;, &#x27;smoker&#x27;, &#x27;region&#x27;]),\n",
       "                                                 (&#x27;scaler&#x27;, StandardScaler(),\n",
       "                                                  [&#x27;age&#x27;, &#x27;bmi&#x27;,\n",
       "                                                   &#x27;children&#x27;])])),\n",
       "                (&#x27;model&#x27;, DummyRegressor())])</pre></div></div></div><div class=\"sk-serial\"><div class=\"sk-item sk-dashed-wrapped\"><div class=\"sk-label-container\"><div class=\"sk-label sk-toggleable\"><input class=\"sk-toggleable__control sk-hidden--visually\" id=\"sk-estimator-id-75\" type=\"checkbox\" ><label for=\"sk-estimator-id-75\" class=\"sk-toggleable__label sk-toggleable__label-arrow\">preprocessor: ColumnTransformer</label><div class=\"sk-toggleable__content\"><pre>ColumnTransformer(transformers=[(&#x27;target_encoder&#x27;, TargetEncoder(),\n",
       "                                 [&#x27;sex&#x27;, &#x27;smoker&#x27;, &#x27;region&#x27;]),\n",
       "                                (&#x27;scaler&#x27;, StandardScaler(),\n",
       "                                 [&#x27;age&#x27;, &#x27;bmi&#x27;, &#x27;children&#x27;])])</pre></div></div></div><div class=\"sk-parallel\"><div class=\"sk-parallel-item\"><div class=\"sk-item\"><div class=\"sk-label-container\"><div class=\"sk-label sk-toggleable\"><input class=\"sk-toggleable__control sk-hidden--visually\" id=\"sk-estimator-id-76\" type=\"checkbox\" ><label for=\"sk-estimator-id-76\" class=\"sk-toggleable__label sk-toggleable__label-arrow\">target_encoder</label><div class=\"sk-toggleable__content\"><pre>[&#x27;sex&#x27;, &#x27;smoker&#x27;, &#x27;region&#x27;]</pre></div></div></div><div class=\"sk-serial\"><div class=\"sk-item\"><div class=\"sk-estimator sk-toggleable\"><input class=\"sk-toggleable__control sk-hidden--visually\" id=\"sk-estimator-id-77\" type=\"checkbox\" ><label for=\"sk-estimator-id-77\" class=\"sk-toggleable__label sk-toggleable__label-arrow\">TargetEncoder</label><div class=\"sk-toggleable__content\"><pre>TargetEncoder()</pre></div></div></div></div></div></div><div class=\"sk-parallel-item\"><div class=\"sk-item\"><div class=\"sk-label-container\"><div class=\"sk-label sk-toggleable\"><input class=\"sk-toggleable__control sk-hidden--visually\" id=\"sk-estimator-id-78\" type=\"checkbox\" ><label for=\"sk-estimator-id-78\" class=\"sk-toggleable__label sk-toggleable__label-arrow\">scaler</label><div class=\"sk-toggleable__content\"><pre>[&#x27;age&#x27;, &#x27;bmi&#x27;, &#x27;children&#x27;]</pre></div></div></div><div class=\"sk-serial\"><div class=\"sk-item\"><div class=\"sk-estimator sk-toggleable\"><input class=\"sk-toggleable__control sk-hidden--visually\" id=\"sk-estimator-id-79\" type=\"checkbox\" ><label for=\"sk-estimator-id-79\" class=\"sk-toggleable__label sk-toggleable__label-arrow\">StandardScaler</label><div class=\"sk-toggleable__content\"><pre>StandardScaler()</pre></div></div></div></div></div></div></div></div><div class=\"sk-item\"><div class=\"sk-estimator sk-toggleable\"><input class=\"sk-toggleable__control sk-hidden--visually\" id=\"sk-estimator-id-80\" type=\"checkbox\" ><label for=\"sk-estimator-id-80\" class=\"sk-toggleable__label sk-toggleable__label-arrow\">DummyRegressor</label><div class=\"sk-toggleable__content\"><pre>DummyRegressor()</pre></div></div></div></div></div></div></div>"
      ],
      "text/plain": [
       "Pipeline(steps=[('preprocessor',\n",
       "                 ColumnTransformer(transformers=[('target_encoder',\n",
       "                                                  TargetEncoder(),\n",
       "                                                  ['sex', 'smoker', 'region']),\n",
       "                                                 ('scaler', StandardScaler(),\n",
       "                                                  ['age', 'bmi',\n",
       "                                                   'children'])])),\n",
       "                ('model', DummyRegressor())])"
      ]
     },
     "execution_count": 80,
     "metadata": {},
     "output_type": "execute_result"
    }
   ],
   "source": [
    "dummy = DummyRegressor(strategy = \"mean\")\n",
    "\n",
    "dummy_pipeline = Pipeline(steps=[\n",
    "    ('preprocessor', preprocessor),\n",
    "    ('model', dummy)\n",
    "])\n",
    "\n",
    "# train it\n",
    "dummy_pipeline.fit(X_train, y_train) "
   ]
  },
  {
   "cell_type": "code",
   "execution_count": 99,
   "metadata": {},
   "outputs": [
    {
     "name": "stdout",
     "output_type": "stream",
     "text": [
      "MAE: 9167.957047790684\n",
      "MSE: 146755286.14031094\n",
      "RMSE: 12114.259619981362\n",
      "Explained Variance Score: 0.0\n"
     ]
    }
   ],
   "source": [
    "y_test_dummy_pred = dummy_pipeline.predict(X_test)\n",
    "\n",
    "mae = mean_absolute_error(y_test, y_test_dummy_pred)\n",
    "mse = mean_squared_error(y_test, y_test_dummy_pred)\n",
    "rmse = mean_squared_error(y_test, y_test_dummy_pred, squared=False)  # RMSE requires squared=False\n",
    "explained_variance = explained_variance_score(y_test, y_test_dummy_pred)\n",
    "\n",
    "print(f\"MAE: {mae}\")\n",
    "print(f\"MSE: {mse}\")\n",
    "print(f\"RMSE: {rmse}\")\n",
    "print(f\"Explained Variance Score: {explained_variance}\")"
   ]
  },
  {
   "cell_type": "markdown",
   "metadata": {},
   "source": [
    "# Grid Search"
   ]
  },
  {
   "cell_type": "code",
   "execution_count": 83,
   "metadata": {},
   "outputs": [
    {
     "name": "stdout",
     "output_type": "stream",
     "text": [
      "[00:12:16] WARNING: C:/buildkite-agent/builds/buildkite-windows-cpu-autoscaling-group-i-03de431ba26204c4d-1/xgboost/xgboost-ci-windows/src/learner.cc:767: \n",
      "Parameters: { \"random_seed\" } are not used.\n",
      "\n"
     ]
    },
    {
     "data": {
      "text/html": [
       "<style>#sk-container-id-13 {color: black;background-color: white;}#sk-container-id-13 pre{padding: 0;}#sk-container-id-13 div.sk-toggleable {background-color: white;}#sk-container-id-13 label.sk-toggleable__label {cursor: pointer;display: block;width: 100%;margin-bottom: 0;padding: 0.3em;box-sizing: border-box;text-align: center;}#sk-container-id-13 label.sk-toggleable__label-arrow:before {content: \"▸\";float: left;margin-right: 0.25em;color: #696969;}#sk-container-id-13 label.sk-toggleable__label-arrow:hover:before {color: black;}#sk-container-id-13 div.sk-estimator:hover label.sk-toggleable__label-arrow:before {color: black;}#sk-container-id-13 div.sk-toggleable__content {max-height: 0;max-width: 0;overflow: hidden;text-align: left;background-color: #f0f8ff;}#sk-container-id-13 div.sk-toggleable__content pre {margin: 0.2em;color: black;border-radius: 0.25em;background-color: #f0f8ff;}#sk-container-id-13 input.sk-toggleable__control:checked~div.sk-toggleable__content {max-height: 200px;max-width: 100%;overflow: auto;}#sk-container-id-13 input.sk-toggleable__control:checked~label.sk-toggleable__label-arrow:before {content: \"▾\";}#sk-container-id-13 div.sk-estimator input.sk-toggleable__control:checked~label.sk-toggleable__label {background-color: #d4ebff;}#sk-container-id-13 div.sk-label input.sk-toggleable__control:checked~label.sk-toggleable__label {background-color: #d4ebff;}#sk-container-id-13 input.sk-hidden--visually {border: 0;clip: rect(1px 1px 1px 1px);clip: rect(1px, 1px, 1px, 1px);height: 1px;margin: -1px;overflow: hidden;padding: 0;position: absolute;width: 1px;}#sk-container-id-13 div.sk-estimator {font-family: monospace;background-color: #f0f8ff;border: 1px dotted black;border-radius: 0.25em;box-sizing: border-box;margin-bottom: 0.5em;}#sk-container-id-13 div.sk-estimator:hover {background-color: #d4ebff;}#sk-container-id-13 div.sk-parallel-item::after {content: \"\";width: 100%;border-bottom: 1px solid gray;flex-grow: 1;}#sk-container-id-13 div.sk-label:hover label.sk-toggleable__label {background-color: #d4ebff;}#sk-container-id-13 div.sk-serial::before {content: \"\";position: absolute;border-left: 1px solid gray;box-sizing: border-box;top: 0;bottom: 0;left: 50%;z-index: 0;}#sk-container-id-13 div.sk-serial {display: flex;flex-direction: column;align-items: center;background-color: white;padding-right: 0.2em;padding-left: 0.2em;position: relative;}#sk-container-id-13 div.sk-item {position: relative;z-index: 1;}#sk-container-id-13 div.sk-parallel {display: flex;align-items: stretch;justify-content: center;background-color: white;position: relative;}#sk-container-id-13 div.sk-item::before, #sk-container-id-13 div.sk-parallel-item::before {content: \"\";position: absolute;border-left: 1px solid gray;box-sizing: border-box;top: 0;bottom: 0;left: 50%;z-index: -1;}#sk-container-id-13 div.sk-parallel-item {display: flex;flex-direction: column;z-index: 1;position: relative;background-color: white;}#sk-container-id-13 div.sk-parallel-item:first-child::after {align-self: flex-end;width: 50%;}#sk-container-id-13 div.sk-parallel-item:last-child::after {align-self: flex-start;width: 50%;}#sk-container-id-13 div.sk-parallel-item:only-child::after {width: 0;}#sk-container-id-13 div.sk-dashed-wrapped {border: 1px dashed gray;margin: 0 0.4em 0.5em 0.4em;box-sizing: border-box;padding-bottom: 0.4em;background-color: white;}#sk-container-id-13 div.sk-label label {font-family: monospace;font-weight: bold;display: inline-block;line-height: 1.2em;}#sk-container-id-13 div.sk-label-container {text-align: center;}#sk-container-id-13 div.sk-container {/* jupyter's `normalize.less` sets `[hidden] { display: none; }` but bootstrap.min.css set `[hidden] { display: none !important; }` so we also need the `!important` here to be able to override the default hidden behavior on the sphinx rendered scikit-learn.org. See: https://github.com/scikit-learn/scikit-learn/issues/21755 */display: inline-block !important;position: relative;}#sk-container-id-13 div.sk-text-repr-fallback {display: none;}</style><div id=\"sk-container-id-13\" class=\"sk-top-container\"><div class=\"sk-text-repr-fallback\"><pre>GridSearchCV(cv=5,\n",
       "             estimator=Pipeline(steps=[(&#x27;preprocessor&#x27;,\n",
       "                                        ColumnTransformer(transformers=[(&#x27;target_encoder&#x27;,\n",
       "                                                                         TargetEncoder(),\n",
       "                                                                         [&#x27;sex&#x27;,\n",
       "                                                                          &#x27;smoker&#x27;,\n",
       "                                                                          &#x27;region&#x27;]),\n",
       "                                                                        (&#x27;scaler&#x27;,\n",
       "                                                                         StandardScaler(),\n",
       "                                                                         [&#x27;age&#x27;,\n",
       "                                                                          &#x27;bmi&#x27;,\n",
       "                                                                          &#x27;children&#x27;])])),\n",
       "                                       (&#x27;model&#x27;,\n",
       "                                        XGBRegressor(base_score=None,\n",
       "                                                     booster=None,\n",
       "                                                     callbacks=None,\n",
       "                                                     colsample_bylevel=None,\n",
       "                                                     colsample_bynode=None,\n",
       "                                                     colsample_bytree=None,\n",
       "                                                     early_st...\n",
       "                                                     min_child_weight=None,\n",
       "                                                     missing=nan,\n",
       "                                                     monotone_constraints=None,\n",
       "                                                     n_estimators=100,\n",
       "                                                     n_jobs=None,\n",
       "                                                     num_parallel_tree=None,\n",
       "                                                     predictor=None,\n",
       "                                                     random_seed=42, ...))]),\n",
       "             n_jobs=-1,\n",
       "             param_grid={&#x27;model__learning_rate&#x27;: [0.01, 0.1, 0.2, 0.3, 0.4],\n",
       "                         &#x27;model__max_depth&#x27;: [3, 5, 7],\n",
       "                         &#x27;model__n_estimators&#x27;: [50, 100, 150, 200],\n",
       "                         &#x27;model__subsample&#x27;: [0.8, 0.9, 1.0]},\n",
       "             scoring=&#x27;neg_mean_squared_error&#x27;)</pre><b>In a Jupyter environment, please rerun this cell to show the HTML representation or trust the notebook. <br />On GitHub, the HTML representation is unable to render, please try loading this page with nbviewer.org.</b></div><div class=\"sk-container\" hidden><div class=\"sk-item sk-dashed-wrapped\"><div class=\"sk-label-container\"><div class=\"sk-label sk-toggleable\"><input class=\"sk-toggleable__control sk-hidden--visually\" id=\"sk-estimator-id-89\" type=\"checkbox\" ><label for=\"sk-estimator-id-89\" class=\"sk-toggleable__label sk-toggleable__label-arrow\">GridSearchCV</label><div class=\"sk-toggleable__content\"><pre>GridSearchCV(cv=5,\n",
       "             estimator=Pipeline(steps=[(&#x27;preprocessor&#x27;,\n",
       "                                        ColumnTransformer(transformers=[(&#x27;target_encoder&#x27;,\n",
       "                                                                         TargetEncoder(),\n",
       "                                                                         [&#x27;sex&#x27;,\n",
       "                                                                          &#x27;smoker&#x27;,\n",
       "                                                                          &#x27;region&#x27;]),\n",
       "                                                                        (&#x27;scaler&#x27;,\n",
       "                                                                         StandardScaler(),\n",
       "                                                                         [&#x27;age&#x27;,\n",
       "                                                                          &#x27;bmi&#x27;,\n",
       "                                                                          &#x27;children&#x27;])])),\n",
       "                                       (&#x27;model&#x27;,\n",
       "                                        XGBRegressor(base_score=None,\n",
       "                                                     booster=None,\n",
       "                                                     callbacks=None,\n",
       "                                                     colsample_bylevel=None,\n",
       "                                                     colsample_bynode=None,\n",
       "                                                     colsample_bytree=None,\n",
       "                                                     early_st...\n",
       "                                                     min_child_weight=None,\n",
       "                                                     missing=nan,\n",
       "                                                     monotone_constraints=None,\n",
       "                                                     n_estimators=100,\n",
       "                                                     n_jobs=None,\n",
       "                                                     num_parallel_tree=None,\n",
       "                                                     predictor=None,\n",
       "                                                     random_seed=42, ...))]),\n",
       "             n_jobs=-1,\n",
       "             param_grid={&#x27;model__learning_rate&#x27;: [0.01, 0.1, 0.2, 0.3, 0.4],\n",
       "                         &#x27;model__max_depth&#x27;: [3, 5, 7],\n",
       "                         &#x27;model__n_estimators&#x27;: [50, 100, 150, 200],\n",
       "                         &#x27;model__subsample&#x27;: [0.8, 0.9, 1.0]},\n",
       "             scoring=&#x27;neg_mean_squared_error&#x27;)</pre></div></div></div><div class=\"sk-parallel\"><div class=\"sk-parallel-item\"><div class=\"sk-item\"><div class=\"sk-label-container\"><div class=\"sk-label sk-toggleable\"><input class=\"sk-toggleable__control sk-hidden--visually\" id=\"sk-estimator-id-90\" type=\"checkbox\" ><label for=\"sk-estimator-id-90\" class=\"sk-toggleable__label sk-toggleable__label-arrow\">estimator: Pipeline</label><div class=\"sk-toggleable__content\"><pre>Pipeline(steps=[(&#x27;preprocessor&#x27;,\n",
       "                 ColumnTransformer(transformers=[(&#x27;target_encoder&#x27;,\n",
       "                                                  TargetEncoder(),\n",
       "                                                  [&#x27;sex&#x27;, &#x27;smoker&#x27;, &#x27;region&#x27;]),\n",
       "                                                 (&#x27;scaler&#x27;, StandardScaler(),\n",
       "                                                  [&#x27;age&#x27;, &#x27;bmi&#x27;,\n",
       "                                                   &#x27;children&#x27;])])),\n",
       "                (&#x27;model&#x27;,\n",
       "                 XGBRegressor(base_score=None, booster=None, callbacks=None,\n",
       "                              colsample_bylevel=None, colsample_bynode=None,\n",
       "                              colsample_bytree=None, early_stopping_rounds=None,\n",
       "                              enable_ca...\n",
       "                              feature_types=None, gamma=None, gpu_id=None,\n",
       "                              grow_policy=None, importance_type=None,\n",
       "                              interaction_constraints=None, learning_rate=None,\n",
       "                              max_bin=None, max_cat_threshold=None,\n",
       "                              max_cat_to_onehot=None, max_delta_step=None,\n",
       "                              max_depth=None, max_leaves=None,\n",
       "                              min_child_weight=None, missing=nan,\n",
       "                              monotone_constraints=None, n_estimators=100,\n",
       "                              n_jobs=None, num_parallel_tree=None,\n",
       "                              predictor=None, random_seed=42, ...))])</pre></div></div></div><div class=\"sk-serial\"><div class=\"sk-item\"><div class=\"sk-serial\"><div class=\"sk-item sk-dashed-wrapped\"><div class=\"sk-label-container\"><div class=\"sk-label sk-toggleable\"><input class=\"sk-toggleable__control sk-hidden--visually\" id=\"sk-estimator-id-91\" type=\"checkbox\" ><label for=\"sk-estimator-id-91\" class=\"sk-toggleable__label sk-toggleable__label-arrow\">preprocessor: ColumnTransformer</label><div class=\"sk-toggleable__content\"><pre>ColumnTransformer(transformers=[(&#x27;target_encoder&#x27;, TargetEncoder(),\n",
       "                                 [&#x27;sex&#x27;, &#x27;smoker&#x27;, &#x27;region&#x27;]),\n",
       "                                (&#x27;scaler&#x27;, StandardScaler(),\n",
       "                                 [&#x27;age&#x27;, &#x27;bmi&#x27;, &#x27;children&#x27;])])</pre></div></div></div><div class=\"sk-parallel\"><div class=\"sk-parallel-item\"><div class=\"sk-item\"><div class=\"sk-label-container\"><div class=\"sk-label sk-toggleable\"><input class=\"sk-toggleable__control sk-hidden--visually\" id=\"sk-estimator-id-92\" type=\"checkbox\" ><label for=\"sk-estimator-id-92\" class=\"sk-toggleable__label sk-toggleable__label-arrow\">target_encoder</label><div class=\"sk-toggleable__content\"><pre>[&#x27;sex&#x27;, &#x27;smoker&#x27;, &#x27;region&#x27;]</pre></div></div></div><div class=\"sk-serial\"><div class=\"sk-item\"><div class=\"sk-estimator sk-toggleable\"><input class=\"sk-toggleable__control sk-hidden--visually\" id=\"sk-estimator-id-93\" type=\"checkbox\" ><label for=\"sk-estimator-id-93\" class=\"sk-toggleable__label sk-toggleable__label-arrow\">TargetEncoder</label><div class=\"sk-toggleable__content\"><pre>TargetEncoder()</pre></div></div></div></div></div></div><div class=\"sk-parallel-item\"><div class=\"sk-item\"><div class=\"sk-label-container\"><div class=\"sk-label sk-toggleable\"><input class=\"sk-toggleable__control sk-hidden--visually\" id=\"sk-estimator-id-94\" type=\"checkbox\" ><label for=\"sk-estimator-id-94\" class=\"sk-toggleable__label sk-toggleable__label-arrow\">scaler</label><div class=\"sk-toggleable__content\"><pre>[&#x27;age&#x27;, &#x27;bmi&#x27;, &#x27;children&#x27;]</pre></div></div></div><div class=\"sk-serial\"><div class=\"sk-item\"><div class=\"sk-estimator sk-toggleable\"><input class=\"sk-toggleable__control sk-hidden--visually\" id=\"sk-estimator-id-95\" type=\"checkbox\" ><label for=\"sk-estimator-id-95\" class=\"sk-toggleable__label sk-toggleable__label-arrow\">StandardScaler</label><div class=\"sk-toggleable__content\"><pre>StandardScaler()</pre></div></div></div></div></div></div></div></div><div class=\"sk-item\"><div class=\"sk-estimator sk-toggleable\"><input class=\"sk-toggleable__control sk-hidden--visually\" id=\"sk-estimator-id-96\" type=\"checkbox\" ><label for=\"sk-estimator-id-96\" class=\"sk-toggleable__label sk-toggleable__label-arrow\">XGBRegressor</label><div class=\"sk-toggleable__content\"><pre>XGBRegressor(base_score=None, booster=None, callbacks=None,\n",
       "             colsample_bylevel=None, colsample_bynode=None,\n",
       "             colsample_bytree=None, early_stopping_rounds=None,\n",
       "             enable_categorical=False, eval_metric=None, feature_types=None,\n",
       "             gamma=None, gpu_id=None, grow_policy=None, importance_type=None,\n",
       "             interaction_constraints=None, learning_rate=None, max_bin=None,\n",
       "             max_cat_threshold=None, max_cat_to_onehot=None,\n",
       "             max_delta_step=None, max_depth=None, max_leaves=None,\n",
       "             min_child_weight=None, missing=nan, monotone_constraints=None,\n",
       "             n_estimators=100, n_jobs=None, num_parallel_tree=None,\n",
       "             predictor=None, random_seed=42, ...)</pre></div></div></div></div></div></div></div></div></div></div></div></div>"
      ],
      "text/plain": [
       "GridSearchCV(cv=5,\n",
       "             estimator=Pipeline(steps=[('preprocessor',\n",
       "                                        ColumnTransformer(transformers=[('target_encoder',\n",
       "                                                                         TargetEncoder(),\n",
       "                                                                         ['sex',\n",
       "                                                                          'smoker',\n",
       "                                                                          'region']),\n",
       "                                                                        ('scaler',\n",
       "                                                                         StandardScaler(),\n",
       "                                                                         ['age',\n",
       "                                                                          'bmi',\n",
       "                                                                          'children'])])),\n",
       "                                       ('model',\n",
       "                                        XGBRegressor(base_score=None,\n",
       "                                                     booster=None,\n",
       "                                                     callbacks=None,\n",
       "                                                     colsample_bylevel=None,\n",
       "                                                     colsample_bynode=None,\n",
       "                                                     colsample_bytree=None,\n",
       "                                                     early_st...\n",
       "                                                     min_child_weight=None,\n",
       "                                                     missing=nan,\n",
       "                                                     monotone_constraints=None,\n",
       "                                                     n_estimators=100,\n",
       "                                                     n_jobs=None,\n",
       "                                                     num_parallel_tree=None,\n",
       "                                                     predictor=None,\n",
       "                                                     random_seed=42, ...))]),\n",
       "             n_jobs=-1,\n",
       "             param_grid={'model__learning_rate': [0.01, 0.1, 0.2, 0.3, 0.4],\n",
       "                         'model__max_depth': [3, 5, 7],\n",
       "                         'model__n_estimators': [50, 100, 150, 200],\n",
       "                         'model__subsample': [0.8, 0.9, 1.0]},\n",
       "             scoring='neg_mean_squared_error')"
      ]
     },
     "execution_count": 83,
     "metadata": {},
     "output_type": "execute_result"
    }
   ],
   "source": [
    "param_grid = {\n",
    "    'model__n_estimators': [50, 100, 150, 200],\n",
    "    'model__max_depth': [3, 5, 7],\n",
    "    'model__learning_rate': [0.01, 0.1, 0.2, 0.3, 0.4],\n",
    "    'model__subsample': [0.8, 0.9, 1.0],\n",
    "}\n",
    "\n",
    "pipeline = Pipeline(steps=[\n",
    "    ('preprocessor', preprocessor),\n",
    "    ('model', XGBRegressor(random_seed=SEED))\n",
    "])\n",
    "# Inicializa o GridSearchCV\n",
    "grid_search = GridSearchCV(pipeline, param_grid=param_grid, cv=5, scoring='neg_mean_squared_error', n_jobs=-1)\n",
    "\n",
    "# # Treina o modelo\n",
    "grid_search.fit(X_train, y_train)\n"
   ]
  },
  {
   "cell_type": "code",
   "execution_count": 93,
   "metadata": {},
   "outputs": [
    {
     "data": {
      "text/plain": [
       "{'learning_rate': 0.1, 'max_depth': 3, 'n_estimators': 50, 'subsample': 1.0}"
      ]
     },
     "execution_count": 93,
     "metadata": {},
     "output_type": "execute_result"
    }
   ],
   "source": [
    "# # Obtém os melhores hiperparâmetros\n",
    "best_params = grid_search.best_params_\n",
    "best_params = {key.replace('model__', ''): value for key, value in best_params.items()}\n",
    "best_params"
   ]
  },
  {
   "cell_type": "code",
   "execution_count": 94,
   "metadata": {},
   "outputs": [
    {
     "name": "stdout",
     "output_type": "stream",
     "text": [
      "Cross-Validation R2 scores: [0.84750056 0.82253682 0.8386977  0.88918403 0.86636039]\n",
      "Mean R2: 0.8528559014436496\n"
     ]
    }
   ],
   "source": [
    "# Cria um novo modelo XGBRegressor com os melhores hiperparâmetros\n",
    "model = XGBRegressor(random_state=SEED, **best_params)\n",
    "\n",
    "# Create the full pipeline\n",
    "pipeline = Pipeline(steps=[\n",
    "    ('preprocessor', preprocessor),\n",
    "    ('model', model)\n",
    "])\n",
    "\n",
    "\n",
    "# # Define the cross-validation strategy\n",
    "kf = KFold(n_splits=5, shuffle=True, random_state=SEED)\n",
    "\n",
    "# # Perform cross-validation\n",
    "scores = cross_val_score(pipeline, X_train, y_train, cv=kf, scoring='r2')\n",
    "\n",
    "# Print the cross-validation scores\n",
    "print(\"Cross-Validation R2 scores:\", scores)\n",
    "print(\"Mean R2:\", np.mean(scores))"
   ]
  },
  {
   "cell_type": "code",
   "execution_count": 98,
   "metadata": {},
   "outputs": [
    {
     "name": "stdout",
     "output_type": "stream",
     "text": [
      "MAE: 2427.755551660292\n",
      "MSE: 18856412.81789763\n",
      "RMSE: 4342.397128073114\n",
      "Explained Variance Score: 0.8718090802749328\n"
     ]
    }
   ],
   "source": [
    "# Train the model on the entire training set\n",
    "pipeline.fit(X_train, y_train)\n",
    "\n",
    "# Predict on the validation set\n",
    "y_test_pred = pipeline.predict(X_test)\n",
    "\n",
    "# Calculate the metrics\n",
    "mae = mean_absolute_error(y_test, y_test_pred)\n",
    "mse = mean_squared_error(y_test, y_test_pred)\n",
    "rmse = mean_squared_error(y_test, y_test_pred, squared=False)  # RMSE requires squared=False\n",
    "explained_variance = explained_variance_score(y_test, y_test_pred)\n",
    "\n",
    "print(f\"MAE: {mae}\")\n",
    "print(f\"MSE: {mse}\")\n",
    "print(f\"RMSE: {rmse}\")\n",
    "print(f\"Explained Variance Score: {explained_variance}\")"
   ]
  },
  {
   "cell_type": "code",
   "execution_count": 100,
   "metadata": {},
   "outputs": [
    {
     "data": {
      "application/vnd.plotly.v1+json": {
       "config": {
        "plotlyServerURL": "https://plot.ly"
       },
       "data": [
        {
         "marker": {
          "color": "red",
          "size": 8
         },
         "mode": "markers",
         "name": "Predicted Values",
         "type": "scatter",
         "x": [
          9095.06825,
          5272.1758,
          29330.98315,
          9301.89355,
          33750.2918,
          4536.259,
          2117.33885,
          14210.53595,
          3732.6251,
          10264.4421,
          18259.216,
          7256.7231,
          3947.4131,
          46151.1245,
          48673.5588,
          44202.6536,
          9800.8882,
          42969.8527,
          8233.0975,
          21774.32215,
          5080.096,
          7441.501,
          1256.299,
          2755.02095,
          11085.5868,
          10923.9332,
          12644.589,
          18804.7524,
          9715.841,
          1131.5066,
          15828.82173,
          11842.62375,
          2020.5523,
          5693.4305,
          2904.088,
          7448.40395,
          2597.779,
          7337.748,
          23887.6627,
          38709.176,
          4687.797,
          2643.2685,
          11674.13,
          12124.9924,
          4889.9995,
          12333.828,
          3579.8287,
          4391.652,
          42124.5153,
          4463.2051,
          13887.204,
          1719.4363,
          28476.73499,
          1708.92575,
          10594.2257,
          25333.33284,
          3645.0894,
          38746.3551,
          11848.141,
          10564.8845,
          13880.949,
          4753.6368,
          27941.28758,
          8017.06115,
          23045.56616,
          4133.64165,
          17942.106,
          25992.82104,
          3594.17085,
          1682.597,
          6079.6715,
          9411.005,
          8283.6807,
          6338.0756,
          7152.6714,
          4889.0368,
          4846.92015,
          11454.0215,
          4349.462,
          9101.798,
          1391.5287,
          28101.33305,
          5152.134,
          38511.6283,
          44501.3982,
          41097.16175,
          4837.5823,
          10601.63225,
          8310.83915,
          11264.541,
          15230.32405,
          27037.9141,
          23401.30575,
          5031.26955,
          38282.7495,
          6875.961,
          19719.6947,
          1880.07,
          18765.87545,
          6402.29135,
          4527.18295,
          1743.214,
          5709.1644,
          12363.547,
          13129.60345,
          1727.54,
          7731.4271,
          21195.818,
          1702.4553,
          23244.7902,
          23082.95533,
          2927.0647,
          13019.16105,
          37701.8768,
          9778.3472,
          1980.07,
          30259.99556,
          22478.6,
          6313.759,
          2789.0574,
          5594.8455,
          7261.741,
          11396.9002,
          1986.9334,
          4719.73655,
          7749.1564,
          7345.7266,
          9288.0267,
          12244.531,
          1837.2819,
          3972.9247,
          5934.3798,
          5836.5204,
          7935.29115,
          5649.715,
          12347.172,
          12404.8791,
          22144.032,
          42983.4585,
          37270.1512,
          5267.81815,
          9866.30485,
          2322.6218,
          33471.97189,
          2137.6536,
          23306.547,
          5261.46945,
          3761.292,
          11436.73815,
          4751.07,
          46661.4424,
          2690.1138,
          1146.7966,
          37607.5277,
          6373.55735,
          4518.82625,
          13555.0049,
          8547.6913,
          34439.8559,
          39125.33225,
          13607.36875,
          2710.82855,
          14988.432,
          2396.0959,
          3591.48,
          7162.0122,
          48824.45,
          43578.9394,
          39556.4945,
          2632.992,
          9182.17,
          6238.298,
          5757.41345,
          4239.89265,
          2154.361,
          21978.6769,
          16297.846,
          13831.1152,
          32734.1863,
          11830.6072,
          29523.1656,
          3167.45585,
          8428.0693,
          5012.471,
          5209.57885,
          2855.43755,
          20277.80751,
          3554.203,
          8569.8618,
          10594.50155,
          3597.596,
          7323.734819,
          2731.9122,
          38711,
          12981.3457,
          9283.562,
          2709.1119,
          12096.6512,
          2198.18985,
          8932.084,
          3176.2877,
          24393.6224,
          4266.1658,
          22493.65964,
          17085.2676,
          16577.7795,
          8827.2099,
          4296.2712,
          7804.1605,
          3208.787,
          12957.118,
          22192.43711,
          9432.9253,
          17043.3414,
          6593.5083,
          4137.5227,
          4779.6023,
          14001.2867,
          12629.8967,
          5245.2269,
          2404.7338,
          6948.7008,
          6435.6237,
          42560.4304,
          2055.3249,
          34672.1472,
          1731.677,
          1639.5631,
          9377.9047,
          10977.2063,
          1534.3045,
          9644.2525,
          4529.477,
          37829.7242,
          9991.03765,
          8125.7845,
          3877.30425,
          5979.731,
          43896.3763,
          1674.6323,
          13204.28565,
          44585.45587,
          3021.80915,
          3392.9768,
          1632.03625,
          2699.56835,
          20177.67113,
          4076.497,
          12592.5345,
          1621.3402,
          1875.344,
          7196.867,
          3161.454,
          12029.2867,
          2719.27975,
          18218.16139,
          12146.971,
          3292.52985,
          8688.85885,
          6113.23105,
          8059.6791,
          13415.0381,
          18246.4955,
          47055.5321,
          12222.8983,
          6067.12675,
          63770.42801,
          9872.701,
          9193.8385,
          8534.6718,
          27117.99378,
          8596.8278,
          12475.3513,
          13405.3903,
          2150.469,
          13747.87235,
          6610.1097,
          39047.285,
          27375.90478,
          9048.0273,
          8988.15875,
          14901.5167,
          10096.97,
          8835.26495,
          38415.474,
          2721.3208,
          9877.6077,
          47269.854,
          4237.12655,
          2534.39375,
          2205.9808,
          10965.446,
          15006.57945,
          10736.87075,
          9788.8659,
          10422.91665,
          9304.7019,
          3378.91,
          2155.6815,
          38126.2465,
          35491.64,
          6356.2707,
          24059.68019,
          16450.8947,
          12925.886,
          36950.2567,
          2459.7201,
          46889.2612,
          5124.1887,
          14133.03775,
          6414.178,
          1720.3537,
          15817.9857,
          13462.52,
          2103.08,
          12105.32,
          20781.48892,
          12235.8392,
          41949.2441,
          12643.3778,
          21223.6758,
          7954.517,
          15170.069,
          3659.346,
          8232.6388,
          8027.968,
          13919.8229,
          10791.96,
          17878.90068,
          10601.412,
          13217.0945,
          11944.59435,
          14358.36437,
          32548.3405,
          5699.8375,
          2352.96845,
          4340.4409,
          9391.346,
          42211.1382,
          8823.279,
          14256.1928,
          7133.9025,
          5312.16985,
          3906.127,
          2203.47185,
          28340.18885,
          5484.4673,
          1622.1885,
          11299.343,
          8026.6666,
          11737.84884,
          2913.569,
          9861.025,
          2473.3341,
          39983.42595,
          36307.7983,
          44400.4064,
          3172.018,
          7742.1098,
          6185.3208,
          1880.487,
          21771.3423,
          6858.4796,
          17179.522,
          42760.5022,
          5478.0368,
          12638.195,
          5989.52365,
          9566.9909,
          10370.91255,
          19594.80965,
          11576.13,
          6360.9936,
          4032.2407,
          2585.269,
          11658.37915,
          21082.16,
          10807.4863,
          9724.53,
          3201.24515,
          3309.7926,
          5969.723,
          8269.044,
          9414.92,
          23967.38305,
          47928.03,
          11842.442,
          7421.19455,
          12950.0712,
          11033.6617,
          6082.405,
          3989.841,
          7537.1639,
          3484.331,
          8116.68,
          17626.23951,
          11837.16,
          9541.69555,
          4399.731,
          2200.83085,
          11363.2832,
          1964.78
         ],
         "y": [
          9911.5703125,
          5571.66845703125,
          27570.568359375,
          9874.5810546875,
          34491.703125,
          5373.5478515625,
          2463.080322265625,
          14705.2412109375,
          4758.25341796875,
          11408.6767578125,
          18344.880859375,
          7680.8662109375,
          5639.99658203125,
          45698.52734375,
          47020.32421875,
          45698.52734375,
          11643.4716796875,
          44711.296875,
          9520.7353515625,
          24459.443359375,
          7167.01513671875,
          9432.189453125,
          2624.126708984375,
          3524.10009765625,
          11617.3818359375,
          12422.1689453125,
          14702.1201171875,
          6701.97607421875,
          11403.46484375,
          2968.892333984375,
          8103.4228515625,
          12215.1513671875,
          3953.760986328125,
          6121.14013671875,
          5455.81005859375,
          9563.126953125,
          4186.07373046875,
          8838.0810546875,
          24522.994140625,
          41098.30859375,
          7120.25244140625,
          4452.65869140625,
          13642.55859375,
          14161.98828125,
          7108.2470703125,
          16114.1953125,
          5973.71044921875,
          6622.40283203125,
          43051.85546875,
          6808.6796875,
          14694.9814453125,
          3828.16162109375,
          7214.423828125,
          2796.72216796875,
          12219.9921875,
          11718.123046875,
          4929.03759765625,
          40090.1171875,
          12305.4677734375,
          12222.880859375,
          14412.91015625,
          5909.15625,
          17089.23828125,
          7804.5830078125,
          10968.1640625,
          5761.40283203125,
          18224.83984375,
          11746.53125,
          5530.42919921875,
          3169.873046875,
          7491.85205078125,
          10091.009765625,
          10771.8232421875,
          7803.44921875,
          9476.263671875,
          5694.25146484375,
          6817.92041015625,
          12150.3583984375,
          6861.4736328125,
          9501.55078125,
          3808.2919921875,
          26970.966796875,
          6915.9794921875,
          37868.15234375,
          37761.35546875,
          42211.64453125,
          6673.5869140625,
          12194.22265625,
          9633.13671875,
          13500.546875,
          17194.806640625,
          26974.94921875,
          24749.09375,
          6829.4375,
          42295.50390625,
          7537.7626953125,
          20655.736328125,
          4051.6171875,
          18350.96484375,
          7310.26416015625,
          5668.27392578125,
          2634.13720703125,
          6803.34423828125,
          13814.259765625,
          13621.884765625,
          3963.6201171875,
          9697.8759765625,
          21931.025390625,
          2416.218017578125,
          24689.197265625,
          2624.126708984375,
          5012.8583984375,
          13719.7373046875,
          40091.29296875,
          11490.5087890625,
          4635.19189453125,
          14044.2021484375,
          24364.548828125,
          7668.3173828125,
          5927.73779296875,
          6170.529296875,
          7717.78076171875,
          12446.033203125,
          4780.70556640625,
          6475.07470703125,
          7775.6240234375,
          9420.4716796875,
          11432.6650390625,
          14735.1953125,
          4313.67138671875,
          4691.68701171875,
          7371.9033203125,
          7709.53466796875,
          9680.6328125,
          6375.37451171875,
          17041.029296875,
          5211.0517578125,
          37231.12890625,
          46137.04296875,
          40091.29296875,
          5583.185546875,
          10916.15625,
          4908.27978515625,
          12275.9306640625,
          4784.7041015625,
          24189.169921875,
          6772.462890625,
          4426.00048828125,
          12038.396484375,
          6117.2119140625,
          46817.80078125,
          5130.400390625,
          2661.447021484375,
          40125.1171875,
          6864.27734375,
          5121.42626953125,
          14259.8564453125,
          10822.8125,
          34698.2265625,
          40125.1171875,
          13835.646484375,
          3642.3623046875,
          16758.9140625,
          5298.35791015625,
          6372.146484375,
          8288.14453125,
          46616.109375,
          44099.02734375,
          42005.20703125,
          4658.47265625,
          10382.953125,
          6943.654296875,
          6931.9384765625,
          5610.4306640625,
          3237.7626953125,
          24136.44140625,
          17692.5546875,
          14449.1904296875,
          16512.89453125,
          12056.9248046875,
          26974.05859375,
          4364.9384765625,
          10104.2841796875,
          5760.50927734375,
          6550.25537109375,
          4765.822265625,
          6316.06591796875,
          4576.86083984375,
          10597.2978515625,
          12092.5146484375,
          6531.248046875,
          3123.236328125,
          3889.110107421875,
          42876.3515625,
          14622.48828125,
          10771.8232421875,
          3694.3759765625,
          13423.4873046875,
          3040.04736328125,
          10577.552734375,
          4582.11962890625,
          25342.84765625,
          5964.94873046875,
          4351.12841796875,
          18970.7265625,
          18474.873046875,
          10662.8125,
          4872.64453125,
          10934.1064453125,
          5147.1923828125,
          13481.857421875,
          12740.927734375,
          9841.9794921875,
          19312.2421875,
          7866.9794921875,
          4986.880859375,
          6000.79833984375,
          16381.607421875,
          14381.1923828125,
          6477.65625,
          3881.372314453125,
          9296.2109375,
          7480.9921875,
          45861.484375,
          3360.073486328125,
          38429.40625,
          2170.44384765625,
          2767.230712890625,
          11288.33203125,
          12573.4580078125,
          3943.91796875,
          10478.626953125,
          6529.27392578125,
          24313.248046875,
          10814.8017578125,
          11107.404296875,
          6551.00390625,
          6371.8876953125,
          44489.66796875,
          3519.570068359375,
          14152.0966796875,
          40863.1015625,
          4795.5400390625,
          5872.46875,
          2450.72705078125,
          4650.60400390625,
          6570.3896484375,
          5455.81005859375,
          12556.0380859375,
          2540.74072265625,
          3370.24853515625,
          7937.51708984375,
          4669.98974609375,
          11754.7275390625,
          4103.1396484375,
          5872.46875,
          14011.126953125,
          5635.828125,
          10267.181640625,
          6875.763671875,
          7599.3662109375,
          13688.0771484375,
          20655.736328125,
          45267.9296875,
          12346.86328125,
          6957.20166015625,
          46937.76953125,
          11214.2177734375,
          9098.4404296875,
          10820.6259765625,
          10759.0380859375,
          9048.060546875,
          12570.26171875,
          14449.1904296875,
          3289.7763671875,
          14917.8798828125,
          7537.1328125,
          40125.1171875,
          6760.197265625,
          11718.671875,
          10709.138671875,
          14637.51171875,
          10158.771484375,
          10651.294921875,
          39947.01171875,
          4929.03759765625,
          11662.8798828125,
          46985.9765625,
          5877.34716796875,
          4901.52587890625,
          3356.551025390625,
          11949.4111328125,
          15973.82421875,
          13194.27734375,
          10639.3798828125,
          11689.4384765625,
          12004.1298828125,
          5147.1923828125,
          3737.498046875,
          38820.90625,
          39861.890625,
          7552.22509765625,
          5055.23095703125,
          17835.658203125,
          16634.19921875,
          40781.04296875,
          3870.314208984375,
          45167.90625,
          6803.38134765625,
          2981.01806640625,
          7138.66259765625,
          4061.4765625,
          18193.859375,
          14449.8251953125,
          3711.77587890625,
          13325.935546875,
          12219.9921875,
          12844.1884765625,
          43781.5234375,
          13505.9541015625,
          24024.638671875,
          7595.60595703125,
          16915.939453125,
          5455.81005859375,
          9520.7353515625,
          9292.845703125,
          16297.1865234375,
          12281.5224609375,
          4645.61572265625,
          12387.07421875,
          14381.1923828125,
          12684.83984375,
          5702.666015625,
          34509.65234375,
          6583.2177734375,
          4741.009765625,
          6836.076171875,
          11492.3291015625,
          44212.5078125,
          9638.4599609375,
          14348.1171875,
          7304.8525390625,
          6713.4931640625,
          6419.41748046875,
          3356.551025390625,
          8992.7021484375,
          6812.8681640625,
          3212.217529296875,
          11926.9697265625,
          9494.9658203125,
          6629.359375,
          4212.93115234375,
          11188.8203125,
          4790.548828125,
          40093.20703125,
          38684.26953125,
          48233.27734375,
          4695.38720703125,
          9462.8916015625,
          6604.146484375,
          3785.93115234375,
          23484.21484375,
          7068.9296875,
          18153.5546875,
          45246.2265625,
          6440.74169921875,
          14412.91015625,
          7045.70068359375,
          10766.1904296875,
          11812.8818359375,
          21191.955078125,
          13065.599609375,
          6534.69189453125,
          5521.7509765625,
          3954.91943359375,
          12169.599609375,
          20764.6875,
          13321.0556640625,
          11356.9931640625,
          4510.267578125,
          5877.34716796875,
          6346.490234375,
          10484.119140625,
          9777.8037109375,
          24133.970703125,
          45879.14453125,
          12052.8984375,
          8992.7021484375,
          14705.2412109375,
          12160.82421875,
          7436.60791015625,
          4235.595703125,
          7545.734375,
          6180.9990234375,
          10508.19140625,
          5552.4384765625,
          12203.759765625,
          10630.2109375,
          6086.64404296875,
          3274.0966796875,
          12681.63671875,
          3711.77587890625
         ]
        },
        {
         "line": {
          "color": "blue"
         },
         "mode": "lines",
         "name": "Actual Values",
         "type": "scatter",
         "x": [
          1131.5066,
          1146.7966,
          1256.299,
          1391.5287,
          1534.3045,
          1621.3402,
          1622.1885,
          1632.03625,
          1639.5631,
          1674.6323,
          1682.597,
          1702.4553,
          1708.92575,
          1719.4363,
          1720.3537,
          1727.54,
          1731.677,
          1743.214,
          1837.2819,
          1875.344,
          1880.07,
          1880.487,
          1964.78,
          1980.07,
          1986.9334,
          2020.5523,
          2055.3249,
          2103.08,
          2117.33885,
          2137.6536,
          2150.469,
          2154.361,
          2155.6815,
          2198.18985,
          2200.83085,
          2203.47185,
          2205.9808,
          2322.6218,
          2352.96845,
          2396.0959,
          2404.7338,
          2459.7201,
          2473.3341,
          2534.39375,
          2585.269,
          2597.779,
          2632.992,
          2643.2685,
          2690.1138,
          2699.56835,
          2709.1119,
          2710.82855,
          2719.27975,
          2721.3208,
          2731.9122,
          2755.02095,
          2789.0574,
          2855.43755,
          2904.088,
          2913.569,
          2927.0647,
          3021.80915,
          3161.454,
          3167.45585,
          3172.018,
          3176.2877,
          3201.24515,
          3208.787,
          3292.52985,
          3309.7926,
          3378.91,
          3392.9768,
          3484.331,
          3554.203,
          3579.8287,
          3591.48,
          3594.17085,
          3597.596,
          3645.0894,
          3659.346,
          3732.6251,
          3761.292,
          3877.30425,
          3906.127,
          3947.4131,
          3972.9247,
          3989.841,
          4032.2407,
          4076.497,
          4133.64165,
          4137.5227,
          4237.12655,
          4239.89265,
          4266.1658,
          4296.2712,
          4340.4409,
          4349.462,
          4391.652,
          4399.731,
          4463.2051,
          4518.82625,
          4527.18295,
          4529.477,
          4536.259,
          4687.797,
          4719.73655,
          4751.07,
          4753.6368,
          4779.6023,
          4837.5823,
          4846.92015,
          4889.0368,
          4889.9995,
          5012.471,
          5031.26955,
          5080.096,
          5124.1887,
          5152.134,
          5209.57885,
          5245.2269,
          5261.46945,
          5267.81815,
          5272.1758,
          5312.16985,
          5478.0368,
          5484.4673,
          5594.8455,
          5649.715,
          5693.4305,
          5699.8375,
          5709.1644,
          5757.41345,
          5836.5204,
          5934.3798,
          5969.723,
          5979.731,
          5989.52365,
          6067.12675,
          6079.6715,
          6082.405,
          6113.23105,
          6185.3208,
          6238.298,
          6313.759,
          6338.0756,
          6356.2707,
          6360.9936,
          6373.55735,
          6402.29135,
          6414.178,
          6435.6237,
          6593.5083,
          6610.1097,
          6858.4796,
          6875.961,
          6948.7008,
          7133.9025,
          7152.6714,
          7162.0122,
          7196.867,
          7256.7231,
          7261.741,
          7323.734819,
          7337.748,
          7345.7266,
          7421.19455,
          7441.501,
          7448.40395,
          7537.1639,
          7731.4271,
          7742.1098,
          7749.1564,
          7804.1605,
          7935.29115,
          7954.517,
          8017.06115,
          8026.6666,
          8027.968,
          8059.6791,
          8116.68,
          8125.7845,
          8232.6388,
          8233.0975,
          8269.044,
          8283.6807,
          8310.83915,
          8428.0693,
          8534.6718,
          8547.6913,
          8569.8618,
          8596.8278,
          8688.85885,
          8823.279,
          8827.2099,
          8835.26495,
          8932.084,
          8988.15875,
          9048.0273,
          9095.06825,
          9101.798,
          9182.17,
          9193.8385,
          9283.562,
          9288.0267,
          9301.89355,
          9304.7019,
          9377.9047,
          9391.346,
          9411.005,
          9414.92,
          9432.9253,
          9541.69555,
          9566.9909,
          9644.2525,
          9715.841,
          9724.53,
          9778.3472,
          9788.8659,
          9800.8882,
          9861.025,
          9866.30485,
          9872.701,
          9877.6077,
          9991.03765,
          10096.97,
          10264.4421,
          10370.91255,
          10422.91665,
          10564.8845,
          10594.2257,
          10594.50155,
          10601.412,
          10601.63225,
          10736.87075,
          10791.96,
          10807.4863,
          10923.9332,
          10965.446,
          10977.2063,
          11033.6617,
          11085.5868,
          11264.541,
          11299.343,
          11363.2832,
          11396.9002,
          11436.73815,
          11454.0215,
          11576.13,
          11658.37915,
          11674.13,
          11737.84884,
          11830.6072,
          11837.16,
          11842.442,
          11842.62375,
          11848.141,
          11944.59435,
          12029.2867,
          12096.6512,
          12105.32,
          12124.9924,
          12146.971,
          12222.8983,
          12235.8392,
          12244.531,
          12333.828,
          12347.172,
          12363.547,
          12404.8791,
          12475.3513,
          12592.5345,
          12629.8967,
          12638.195,
          12643.3778,
          12644.589,
          12925.886,
          12950.0712,
          12957.118,
          12981.3457,
          13019.16105,
          13129.60345,
          13204.28565,
          13217.0945,
          13405.3903,
          13415.0381,
          13462.52,
          13555.0049,
          13607.36875,
          13747.87235,
          13831.1152,
          13880.949,
          13887.204,
          13919.8229,
          14001.2867,
          14133.03775,
          14210.53595,
          14256.1928,
          14358.36437,
          14901.5167,
          14988.432,
          15006.57945,
          15170.069,
          15230.32405,
          15817.9857,
          15828.82173,
          16297.846,
          16450.8947,
          16577.7795,
          17043.3414,
          17085.2676,
          17179.522,
          17626.23951,
          17878.90068,
          17942.106,
          18218.16139,
          18246.4955,
          18259.216,
          18765.87545,
          18804.7524,
          19594.80965,
          19719.6947,
          20177.67113,
          20277.80751,
          20781.48892,
          21082.16,
          21195.818,
          21223.6758,
          21771.3423,
          21774.32215,
          21978.6769,
          22144.032,
          22192.43711,
          22478.6,
          22493.65964,
          23045.56616,
          23082.95533,
          23244.7902,
          23306.547,
          23401.30575,
          23887.6627,
          23967.38305,
          24059.68019,
          24393.6224,
          25333.33284,
          25992.82104,
          27037.9141,
          27117.99378,
          27375.90478,
          27941.28758,
          28101.33305,
          28340.18885,
          28476.73499,
          29330.98315,
          29523.1656,
          30259.99556,
          32548.3405,
          32734.1863,
          33471.97189,
          33750.2918,
          34439.8559,
          34672.1472,
          35491.64,
          36307.7983,
          36950.2567,
          37270.1512,
          37607.5277,
          37701.8768,
          37829.7242,
          38126.2465,
          38282.7495,
          38415.474,
          38511.6283,
          38709.176,
          38711,
          38746.3551,
          39047.285,
          39125.33225,
          39556.4945,
          39983.42595,
          41097.16175,
          41949.2441,
          42124.5153,
          42211.1382,
          42560.4304,
          42760.5022,
          42969.8527,
          42983.4585,
          43578.9394,
          43896.3763,
          44202.6536,
          44400.4064,
          44501.3982,
          44585.45587,
          46151.1245,
          46661.4424,
          46889.2612,
          47055.5321,
          47269.854,
          47928.03,
          48673.5588,
          48824.45,
          63770.42801
         ],
         "y": [
          1131.5066,
          1146.7966,
          1256.299,
          1391.5287,
          1534.3045,
          1621.3402,
          1622.1885,
          1632.03625,
          1639.5631,
          1674.6323,
          1682.597,
          1702.4553,
          1708.92575,
          1719.4363,
          1720.3537,
          1727.54,
          1731.677,
          1743.214,
          1837.2819,
          1875.344,
          1880.07,
          1880.487,
          1964.78,
          1980.07,
          1986.9334,
          2020.5523,
          2055.3249,
          2103.08,
          2117.33885,
          2137.6536,
          2150.469,
          2154.361,
          2155.6815,
          2198.18985,
          2200.83085,
          2203.47185,
          2205.9808,
          2322.6218,
          2352.96845,
          2396.0959,
          2404.7338,
          2459.7201,
          2473.3341,
          2534.39375,
          2585.269,
          2597.779,
          2632.992,
          2643.2685,
          2690.1138,
          2699.56835,
          2709.1119,
          2710.82855,
          2719.27975,
          2721.3208,
          2731.9122,
          2755.02095,
          2789.0574,
          2855.43755,
          2904.088,
          2913.569,
          2927.0647,
          3021.80915,
          3161.454,
          3167.45585,
          3172.018,
          3176.2877,
          3201.24515,
          3208.787,
          3292.52985,
          3309.7926,
          3378.91,
          3392.9768,
          3484.331,
          3554.203,
          3579.8287,
          3591.48,
          3594.17085,
          3597.596,
          3645.0894,
          3659.346,
          3732.6251,
          3761.292,
          3877.30425,
          3906.127,
          3947.4131,
          3972.9247,
          3989.841,
          4032.2407,
          4076.497,
          4133.64165,
          4137.5227,
          4237.12655,
          4239.89265,
          4266.1658,
          4296.2712,
          4340.4409,
          4349.462,
          4391.652,
          4399.731,
          4463.2051,
          4518.82625,
          4527.18295,
          4529.477,
          4536.259,
          4687.797,
          4719.73655,
          4751.07,
          4753.6368,
          4779.6023,
          4837.5823,
          4846.92015,
          4889.0368,
          4889.9995,
          5012.471,
          5031.26955,
          5080.096,
          5124.1887,
          5152.134,
          5209.57885,
          5245.2269,
          5261.46945,
          5267.81815,
          5272.1758,
          5312.16985,
          5478.0368,
          5484.4673,
          5594.8455,
          5649.715,
          5693.4305,
          5699.8375,
          5709.1644,
          5757.41345,
          5836.5204,
          5934.3798,
          5969.723,
          5979.731,
          5989.52365,
          6067.12675,
          6079.6715,
          6082.405,
          6113.23105,
          6185.3208,
          6238.298,
          6313.759,
          6338.0756,
          6356.2707,
          6360.9936,
          6373.55735,
          6402.29135,
          6414.178,
          6435.6237,
          6593.5083,
          6610.1097,
          6858.4796,
          6875.961,
          6948.7008,
          7133.9025,
          7152.6714,
          7162.0122,
          7196.867,
          7256.7231,
          7261.741,
          7323.734819,
          7337.748,
          7345.7266,
          7421.19455,
          7441.501,
          7448.40395,
          7537.1639,
          7731.4271,
          7742.1098,
          7749.1564,
          7804.1605,
          7935.29115,
          7954.517,
          8017.06115,
          8026.6666,
          8027.968,
          8059.6791,
          8116.68,
          8125.7845,
          8232.6388,
          8233.0975,
          8269.044,
          8283.6807,
          8310.83915,
          8428.0693,
          8534.6718,
          8547.6913,
          8569.8618,
          8596.8278,
          8688.85885,
          8823.279,
          8827.2099,
          8835.26495,
          8932.084,
          8988.15875,
          9048.0273,
          9095.06825,
          9101.798,
          9182.17,
          9193.8385,
          9283.562,
          9288.0267,
          9301.89355,
          9304.7019,
          9377.9047,
          9391.346,
          9411.005,
          9414.92,
          9432.9253,
          9541.69555,
          9566.9909,
          9644.2525,
          9715.841,
          9724.53,
          9778.3472,
          9788.8659,
          9800.8882,
          9861.025,
          9866.30485,
          9872.701,
          9877.6077,
          9991.03765,
          10096.97,
          10264.4421,
          10370.91255,
          10422.91665,
          10564.8845,
          10594.2257,
          10594.50155,
          10601.412,
          10601.63225,
          10736.87075,
          10791.96,
          10807.4863,
          10923.9332,
          10965.446,
          10977.2063,
          11033.6617,
          11085.5868,
          11264.541,
          11299.343,
          11363.2832,
          11396.9002,
          11436.73815,
          11454.0215,
          11576.13,
          11658.37915,
          11674.13,
          11737.84884,
          11830.6072,
          11837.16,
          11842.442,
          11842.62375,
          11848.141,
          11944.59435,
          12029.2867,
          12096.6512,
          12105.32,
          12124.9924,
          12146.971,
          12222.8983,
          12235.8392,
          12244.531,
          12333.828,
          12347.172,
          12363.547,
          12404.8791,
          12475.3513,
          12592.5345,
          12629.8967,
          12638.195,
          12643.3778,
          12644.589,
          12925.886,
          12950.0712,
          12957.118,
          12981.3457,
          13019.16105,
          13129.60345,
          13204.28565,
          13217.0945,
          13405.3903,
          13415.0381,
          13462.52,
          13555.0049,
          13607.36875,
          13747.87235,
          13831.1152,
          13880.949,
          13887.204,
          13919.8229,
          14001.2867,
          14133.03775,
          14210.53595,
          14256.1928,
          14358.36437,
          14901.5167,
          14988.432,
          15006.57945,
          15170.069,
          15230.32405,
          15817.9857,
          15828.82173,
          16297.846,
          16450.8947,
          16577.7795,
          17043.3414,
          17085.2676,
          17179.522,
          17626.23951,
          17878.90068,
          17942.106,
          18218.16139,
          18246.4955,
          18259.216,
          18765.87545,
          18804.7524,
          19594.80965,
          19719.6947,
          20177.67113,
          20277.80751,
          20781.48892,
          21082.16,
          21195.818,
          21223.6758,
          21771.3423,
          21774.32215,
          21978.6769,
          22144.032,
          22192.43711,
          22478.6,
          22493.65964,
          23045.56616,
          23082.95533,
          23244.7902,
          23306.547,
          23401.30575,
          23887.6627,
          23967.38305,
          24059.68019,
          24393.6224,
          25333.33284,
          25992.82104,
          27037.9141,
          27117.99378,
          27375.90478,
          27941.28758,
          28101.33305,
          28340.18885,
          28476.73499,
          29330.98315,
          29523.1656,
          30259.99556,
          32548.3405,
          32734.1863,
          33471.97189,
          33750.2918,
          34439.8559,
          34672.1472,
          35491.64,
          36307.7983,
          36950.2567,
          37270.1512,
          37607.5277,
          37701.8768,
          37829.7242,
          38126.2465,
          38282.7495,
          38415.474,
          38511.6283,
          38709.176,
          38711,
          38746.3551,
          39047.285,
          39125.33225,
          39556.4945,
          39983.42595,
          41097.16175,
          41949.2441,
          42124.5153,
          42211.1382,
          42560.4304,
          42760.5022,
          42969.8527,
          42983.4585,
          43578.9394,
          43896.3763,
          44202.6536,
          44400.4064,
          44501.3982,
          44585.45587,
          46151.1245,
          46661.4424,
          46889.2612,
          47055.5321,
          47269.854,
          47928.03,
          48673.5588,
          48824.45,
          63770.42801
         ]
        }
       ],
       "layout": {
        "height": 600,
        "template": {
         "data": {
          "bar": [
           {
            "error_x": {
             "color": "#2a3f5f"
            },
            "error_y": {
             "color": "#2a3f5f"
            },
            "marker": {
             "line": {
              "color": "#E5ECF6",
              "width": 0.5
             },
             "pattern": {
              "fillmode": "overlay",
              "size": 10,
              "solidity": 0.2
             }
            },
            "type": "bar"
           }
          ],
          "barpolar": [
           {
            "marker": {
             "line": {
              "color": "#E5ECF6",
              "width": 0.5
             },
             "pattern": {
              "fillmode": "overlay",
              "size": 10,
              "solidity": 0.2
             }
            },
            "type": "barpolar"
           }
          ],
          "carpet": [
           {
            "aaxis": {
             "endlinecolor": "#2a3f5f",
             "gridcolor": "white",
             "linecolor": "white",
             "minorgridcolor": "white",
             "startlinecolor": "#2a3f5f"
            },
            "baxis": {
             "endlinecolor": "#2a3f5f",
             "gridcolor": "white",
             "linecolor": "white",
             "minorgridcolor": "white",
             "startlinecolor": "#2a3f5f"
            },
            "type": "carpet"
           }
          ],
          "choropleth": [
           {
            "colorbar": {
             "outlinewidth": 0,
             "ticks": ""
            },
            "type": "choropleth"
           }
          ],
          "contour": [
           {
            "colorbar": {
             "outlinewidth": 0,
             "ticks": ""
            },
            "colorscale": [
             [
              0,
              "#0d0887"
             ],
             [
              0.1111111111111111,
              "#46039f"
             ],
             [
              0.2222222222222222,
              "#7201a8"
             ],
             [
              0.3333333333333333,
              "#9c179e"
             ],
             [
              0.4444444444444444,
              "#bd3786"
             ],
             [
              0.5555555555555556,
              "#d8576b"
             ],
             [
              0.6666666666666666,
              "#ed7953"
             ],
             [
              0.7777777777777778,
              "#fb9f3a"
             ],
             [
              0.8888888888888888,
              "#fdca26"
             ],
             [
              1,
              "#f0f921"
             ]
            ],
            "type": "contour"
           }
          ],
          "contourcarpet": [
           {
            "colorbar": {
             "outlinewidth": 0,
             "ticks": ""
            },
            "type": "contourcarpet"
           }
          ],
          "heatmap": [
           {
            "colorbar": {
             "outlinewidth": 0,
             "ticks": ""
            },
            "colorscale": [
             [
              0,
              "#0d0887"
             ],
             [
              0.1111111111111111,
              "#46039f"
             ],
             [
              0.2222222222222222,
              "#7201a8"
             ],
             [
              0.3333333333333333,
              "#9c179e"
             ],
             [
              0.4444444444444444,
              "#bd3786"
             ],
             [
              0.5555555555555556,
              "#d8576b"
             ],
             [
              0.6666666666666666,
              "#ed7953"
             ],
             [
              0.7777777777777778,
              "#fb9f3a"
             ],
             [
              0.8888888888888888,
              "#fdca26"
             ],
             [
              1,
              "#f0f921"
             ]
            ],
            "type": "heatmap"
           }
          ],
          "heatmapgl": [
           {
            "colorbar": {
             "outlinewidth": 0,
             "ticks": ""
            },
            "colorscale": [
             [
              0,
              "#0d0887"
             ],
             [
              0.1111111111111111,
              "#46039f"
             ],
             [
              0.2222222222222222,
              "#7201a8"
             ],
             [
              0.3333333333333333,
              "#9c179e"
             ],
             [
              0.4444444444444444,
              "#bd3786"
             ],
             [
              0.5555555555555556,
              "#d8576b"
             ],
             [
              0.6666666666666666,
              "#ed7953"
             ],
             [
              0.7777777777777778,
              "#fb9f3a"
             ],
             [
              0.8888888888888888,
              "#fdca26"
             ],
             [
              1,
              "#f0f921"
             ]
            ],
            "type": "heatmapgl"
           }
          ],
          "histogram": [
           {
            "marker": {
             "pattern": {
              "fillmode": "overlay",
              "size": 10,
              "solidity": 0.2
             }
            },
            "type": "histogram"
           }
          ],
          "histogram2d": [
           {
            "colorbar": {
             "outlinewidth": 0,
             "ticks": ""
            },
            "colorscale": [
             [
              0,
              "#0d0887"
             ],
             [
              0.1111111111111111,
              "#46039f"
             ],
             [
              0.2222222222222222,
              "#7201a8"
             ],
             [
              0.3333333333333333,
              "#9c179e"
             ],
             [
              0.4444444444444444,
              "#bd3786"
             ],
             [
              0.5555555555555556,
              "#d8576b"
             ],
             [
              0.6666666666666666,
              "#ed7953"
             ],
             [
              0.7777777777777778,
              "#fb9f3a"
             ],
             [
              0.8888888888888888,
              "#fdca26"
             ],
             [
              1,
              "#f0f921"
             ]
            ],
            "type": "histogram2d"
           }
          ],
          "histogram2dcontour": [
           {
            "colorbar": {
             "outlinewidth": 0,
             "ticks": ""
            },
            "colorscale": [
             [
              0,
              "#0d0887"
             ],
             [
              0.1111111111111111,
              "#46039f"
             ],
             [
              0.2222222222222222,
              "#7201a8"
             ],
             [
              0.3333333333333333,
              "#9c179e"
             ],
             [
              0.4444444444444444,
              "#bd3786"
             ],
             [
              0.5555555555555556,
              "#d8576b"
             ],
             [
              0.6666666666666666,
              "#ed7953"
             ],
             [
              0.7777777777777778,
              "#fb9f3a"
             ],
             [
              0.8888888888888888,
              "#fdca26"
             ],
             [
              1,
              "#f0f921"
             ]
            ],
            "type": "histogram2dcontour"
           }
          ],
          "mesh3d": [
           {
            "colorbar": {
             "outlinewidth": 0,
             "ticks": ""
            },
            "type": "mesh3d"
           }
          ],
          "parcoords": [
           {
            "line": {
             "colorbar": {
              "outlinewidth": 0,
              "ticks": ""
             }
            },
            "type": "parcoords"
           }
          ],
          "pie": [
           {
            "automargin": true,
            "type": "pie"
           }
          ],
          "scatter": [
           {
            "fillpattern": {
             "fillmode": "overlay",
             "size": 10,
             "solidity": 0.2
            },
            "type": "scatter"
           }
          ],
          "scatter3d": [
           {
            "line": {
             "colorbar": {
              "outlinewidth": 0,
              "ticks": ""
             }
            },
            "marker": {
             "colorbar": {
              "outlinewidth": 0,
              "ticks": ""
             }
            },
            "type": "scatter3d"
           }
          ],
          "scattercarpet": [
           {
            "marker": {
             "colorbar": {
              "outlinewidth": 0,
              "ticks": ""
             }
            },
            "type": "scattercarpet"
           }
          ],
          "scattergeo": [
           {
            "marker": {
             "colorbar": {
              "outlinewidth": 0,
              "ticks": ""
             }
            },
            "type": "scattergeo"
           }
          ],
          "scattergl": [
           {
            "marker": {
             "colorbar": {
              "outlinewidth": 0,
              "ticks": ""
             }
            },
            "type": "scattergl"
           }
          ],
          "scattermapbox": [
           {
            "marker": {
             "colorbar": {
              "outlinewidth": 0,
              "ticks": ""
             }
            },
            "type": "scattermapbox"
           }
          ],
          "scatterpolar": [
           {
            "marker": {
             "colorbar": {
              "outlinewidth": 0,
              "ticks": ""
             }
            },
            "type": "scatterpolar"
           }
          ],
          "scatterpolargl": [
           {
            "marker": {
             "colorbar": {
              "outlinewidth": 0,
              "ticks": ""
             }
            },
            "type": "scatterpolargl"
           }
          ],
          "scatterternary": [
           {
            "marker": {
             "colorbar": {
              "outlinewidth": 0,
              "ticks": ""
             }
            },
            "type": "scatterternary"
           }
          ],
          "surface": [
           {
            "colorbar": {
             "outlinewidth": 0,
             "ticks": ""
            },
            "colorscale": [
             [
              0,
              "#0d0887"
             ],
             [
              0.1111111111111111,
              "#46039f"
             ],
             [
              0.2222222222222222,
              "#7201a8"
             ],
             [
              0.3333333333333333,
              "#9c179e"
             ],
             [
              0.4444444444444444,
              "#bd3786"
             ],
             [
              0.5555555555555556,
              "#d8576b"
             ],
             [
              0.6666666666666666,
              "#ed7953"
             ],
             [
              0.7777777777777778,
              "#fb9f3a"
             ],
             [
              0.8888888888888888,
              "#fdca26"
             ],
             [
              1,
              "#f0f921"
             ]
            ],
            "type": "surface"
           }
          ],
          "table": [
           {
            "cells": {
             "fill": {
              "color": "#EBF0F8"
             },
             "line": {
              "color": "white"
             }
            },
            "header": {
             "fill": {
              "color": "#C8D4E3"
             },
             "line": {
              "color": "white"
             }
            },
            "type": "table"
           }
          ]
         },
         "layout": {
          "annotationdefaults": {
           "arrowcolor": "#2a3f5f",
           "arrowhead": 0,
           "arrowwidth": 1
          },
          "autotypenumbers": "strict",
          "coloraxis": {
           "colorbar": {
            "outlinewidth": 0,
            "ticks": ""
           }
          },
          "colorscale": {
           "diverging": [
            [
             0,
             "#8e0152"
            ],
            [
             0.1,
             "#c51b7d"
            ],
            [
             0.2,
             "#de77ae"
            ],
            [
             0.3,
             "#f1b6da"
            ],
            [
             0.4,
             "#fde0ef"
            ],
            [
             0.5,
             "#f7f7f7"
            ],
            [
             0.6,
             "#e6f5d0"
            ],
            [
             0.7,
             "#b8e186"
            ],
            [
             0.8,
             "#7fbc41"
            ],
            [
             0.9,
             "#4d9221"
            ],
            [
             1,
             "#276419"
            ]
           ],
           "sequential": [
            [
             0,
             "#0d0887"
            ],
            [
             0.1111111111111111,
             "#46039f"
            ],
            [
             0.2222222222222222,
             "#7201a8"
            ],
            [
             0.3333333333333333,
             "#9c179e"
            ],
            [
             0.4444444444444444,
             "#bd3786"
            ],
            [
             0.5555555555555556,
             "#d8576b"
            ],
            [
             0.6666666666666666,
             "#ed7953"
            ],
            [
             0.7777777777777778,
             "#fb9f3a"
            ],
            [
             0.8888888888888888,
             "#fdca26"
            ],
            [
             1,
             "#f0f921"
            ]
           ],
           "sequentialminus": [
            [
             0,
             "#0d0887"
            ],
            [
             0.1111111111111111,
             "#46039f"
            ],
            [
             0.2222222222222222,
             "#7201a8"
            ],
            [
             0.3333333333333333,
             "#9c179e"
            ],
            [
             0.4444444444444444,
             "#bd3786"
            ],
            [
             0.5555555555555556,
             "#d8576b"
            ],
            [
             0.6666666666666666,
             "#ed7953"
            ],
            [
             0.7777777777777778,
             "#fb9f3a"
            ],
            [
             0.8888888888888888,
             "#fdca26"
            ],
            [
             1,
             "#f0f921"
            ]
           ]
          },
          "colorway": [
           "#636efa",
           "#EF553B",
           "#00cc96",
           "#ab63fa",
           "#FFA15A",
           "#19d3f3",
           "#FF6692",
           "#B6E880",
           "#FF97FF",
           "#FECB52"
          ],
          "font": {
           "color": "#2a3f5f"
          },
          "geo": {
           "bgcolor": "white",
           "lakecolor": "white",
           "landcolor": "#E5ECF6",
           "showlakes": true,
           "showland": true,
           "subunitcolor": "white"
          },
          "hoverlabel": {
           "align": "left"
          },
          "hovermode": "closest",
          "mapbox": {
           "style": "light"
          },
          "paper_bgcolor": "white",
          "plot_bgcolor": "#E5ECF6",
          "polar": {
           "angularaxis": {
            "gridcolor": "white",
            "linecolor": "white",
            "ticks": ""
           },
           "bgcolor": "#E5ECF6",
           "radialaxis": {
            "gridcolor": "white",
            "linecolor": "white",
            "ticks": ""
           }
          },
          "scene": {
           "xaxis": {
            "backgroundcolor": "#E5ECF6",
            "gridcolor": "white",
            "gridwidth": 2,
            "linecolor": "white",
            "showbackground": true,
            "ticks": "",
            "zerolinecolor": "white"
           },
           "yaxis": {
            "backgroundcolor": "#E5ECF6",
            "gridcolor": "white",
            "gridwidth": 2,
            "linecolor": "white",
            "showbackground": true,
            "ticks": "",
            "zerolinecolor": "white"
           },
           "zaxis": {
            "backgroundcolor": "#E5ECF6",
            "gridcolor": "white",
            "gridwidth": 2,
            "linecolor": "white",
            "showbackground": true,
            "ticks": "",
            "zerolinecolor": "white"
           }
          },
          "shapedefaults": {
           "line": {
            "color": "#2a3f5f"
           }
          },
          "ternary": {
           "aaxis": {
            "gridcolor": "white",
            "linecolor": "white",
            "ticks": ""
           },
           "baxis": {
            "gridcolor": "white",
            "linecolor": "white",
            "ticks": ""
           },
           "bgcolor": "#E5ECF6",
           "caxis": {
            "gridcolor": "white",
            "linecolor": "white",
            "ticks": ""
           }
          },
          "title": {
           "x": 0.05
          },
          "xaxis": {
           "automargin": true,
           "gridcolor": "white",
           "linecolor": "white",
           "ticks": "",
           "title": {
            "standoff": 15
           },
           "zerolinecolor": "white",
           "zerolinewidth": 2
          },
          "yaxis": {
           "automargin": true,
           "gridcolor": "white",
           "linecolor": "white",
           "ticks": "",
           "title": {
            "standoff": 15
           },
           "zerolinecolor": "white",
           "zerolinewidth": 2
          }
         }
        },
        "title": {
         "text": "Actual vs Predicted Values"
        },
        "width": 1000,
        "xaxis": {
         "title": {
          "text": "Actual Values"
         }
        },
        "yaxis": {
         "title": {
          "text": "Predicted Values"
         }
        }
       }
      }
     },
     "metadata": {},
     "output_type": "display_data"
    }
   ],
   "source": [
    "import plotly.graph_objects as go\n",
    "# Create a scatter plot\n",
    "fig = go.Figure()\n",
    "\n",
    "# Add the predicted values\n",
    "fig.add_trace(go.Scatter(x=y_test, y=y_test_pred, mode='markers', \n",
    "                         marker=dict(color='red', size=8), name='Predicted Values'))\n",
    "\n",
    "# Add a line for perfect prediction\n",
    "fig.add_trace(go.Scatter(x=y_test.sort_values(), y=y_test.sort_values(), mode='lines', \n",
    "                         line=dict(color='blue'), name='Actual Values'))\n",
    "\n",
    "# Update the layout\n",
    "fig.update_layout(xaxis_title='Actual Values', yaxis_title='Predicted Values', title='Actual vs Predicted Values',\n",
    "                  width=1000, height=600)\n",
    "\n",
    "# Show the plot\n",
    "fig.show()\n"
   ]
  },
  {
   "cell_type": "code",
   "execution_count": 101,
   "metadata": {},
   "outputs": [
    {
     "data": {
      "application/vnd.plotly.v1+json": {
       "config": {
        "plotlyServerURL": "https://plot.ly"
       },
       "data": [
        {
         "marker": {
          "color": "green"
         },
         "mode": "markers",
         "name": "Resíduos Padronizados",
         "type": "scatter",
         "x": [
          9911.5703125,
          5571.66845703125,
          27570.568359375,
          9874.5810546875,
          34491.703125,
          5373.5478515625,
          2463.080322265625,
          14705.2412109375,
          4758.25341796875,
          11408.6767578125,
          18344.880859375,
          7680.8662109375,
          5639.99658203125,
          45698.52734375,
          47020.32421875,
          45698.52734375,
          11643.4716796875,
          44711.296875,
          9520.7353515625,
          24459.443359375,
          7167.01513671875,
          9432.189453125,
          2624.126708984375,
          3524.10009765625,
          11617.3818359375,
          12422.1689453125,
          14702.1201171875,
          6701.97607421875,
          11403.46484375,
          2968.892333984375,
          8103.4228515625,
          12215.1513671875,
          3953.760986328125,
          6121.14013671875,
          5455.81005859375,
          9563.126953125,
          4186.07373046875,
          8838.0810546875,
          24522.994140625,
          41098.30859375,
          7120.25244140625,
          4452.65869140625,
          13642.55859375,
          14161.98828125,
          7108.2470703125,
          16114.1953125,
          5973.71044921875,
          6622.40283203125,
          43051.85546875,
          6808.6796875,
          14694.9814453125,
          3828.16162109375,
          7214.423828125,
          2796.72216796875,
          12219.9921875,
          11718.123046875,
          4929.03759765625,
          40090.1171875,
          12305.4677734375,
          12222.880859375,
          14412.91015625,
          5909.15625,
          17089.23828125,
          7804.5830078125,
          10968.1640625,
          5761.40283203125,
          18224.83984375,
          11746.53125,
          5530.42919921875,
          3169.873046875,
          7491.85205078125,
          10091.009765625,
          10771.8232421875,
          7803.44921875,
          9476.263671875,
          5694.25146484375,
          6817.92041015625,
          12150.3583984375,
          6861.4736328125,
          9501.55078125,
          3808.2919921875,
          26970.966796875,
          6915.9794921875,
          37868.15234375,
          37761.35546875,
          42211.64453125,
          6673.5869140625,
          12194.22265625,
          9633.13671875,
          13500.546875,
          17194.806640625,
          26974.94921875,
          24749.09375,
          6829.4375,
          42295.50390625,
          7537.7626953125,
          20655.736328125,
          4051.6171875,
          18350.96484375,
          7310.26416015625,
          5668.27392578125,
          2634.13720703125,
          6803.34423828125,
          13814.259765625,
          13621.884765625,
          3963.6201171875,
          9697.8759765625,
          21931.025390625,
          2416.218017578125,
          24689.197265625,
          2624.126708984375,
          5012.8583984375,
          13719.7373046875,
          40091.29296875,
          11490.5087890625,
          4635.19189453125,
          14044.2021484375,
          24364.548828125,
          7668.3173828125,
          5927.73779296875,
          6170.529296875,
          7717.78076171875,
          12446.033203125,
          4780.70556640625,
          6475.07470703125,
          7775.6240234375,
          9420.4716796875,
          11432.6650390625,
          14735.1953125,
          4313.67138671875,
          4691.68701171875,
          7371.9033203125,
          7709.53466796875,
          9680.6328125,
          6375.37451171875,
          17041.029296875,
          5211.0517578125,
          37231.12890625,
          46137.04296875,
          40091.29296875,
          5583.185546875,
          10916.15625,
          4908.27978515625,
          12275.9306640625,
          4784.7041015625,
          24189.169921875,
          6772.462890625,
          4426.00048828125,
          12038.396484375,
          6117.2119140625,
          46817.80078125,
          5130.400390625,
          2661.447021484375,
          40125.1171875,
          6864.27734375,
          5121.42626953125,
          14259.8564453125,
          10822.8125,
          34698.2265625,
          40125.1171875,
          13835.646484375,
          3642.3623046875,
          16758.9140625,
          5298.35791015625,
          6372.146484375,
          8288.14453125,
          46616.109375,
          44099.02734375,
          42005.20703125,
          4658.47265625,
          10382.953125,
          6943.654296875,
          6931.9384765625,
          5610.4306640625,
          3237.7626953125,
          24136.44140625,
          17692.5546875,
          14449.1904296875,
          16512.89453125,
          12056.9248046875,
          26974.05859375,
          4364.9384765625,
          10104.2841796875,
          5760.50927734375,
          6550.25537109375,
          4765.822265625,
          6316.06591796875,
          4576.86083984375,
          10597.2978515625,
          12092.5146484375,
          6531.248046875,
          3123.236328125,
          3889.110107421875,
          42876.3515625,
          14622.48828125,
          10771.8232421875,
          3694.3759765625,
          13423.4873046875,
          3040.04736328125,
          10577.552734375,
          4582.11962890625,
          25342.84765625,
          5964.94873046875,
          4351.12841796875,
          18970.7265625,
          18474.873046875,
          10662.8125,
          4872.64453125,
          10934.1064453125,
          5147.1923828125,
          13481.857421875,
          12740.927734375,
          9841.9794921875,
          19312.2421875,
          7866.9794921875,
          4986.880859375,
          6000.79833984375,
          16381.607421875,
          14381.1923828125,
          6477.65625,
          3881.372314453125,
          9296.2109375,
          7480.9921875,
          45861.484375,
          3360.073486328125,
          38429.40625,
          2170.44384765625,
          2767.230712890625,
          11288.33203125,
          12573.4580078125,
          3943.91796875,
          10478.626953125,
          6529.27392578125,
          24313.248046875,
          10814.8017578125,
          11107.404296875,
          6551.00390625,
          6371.8876953125,
          44489.66796875,
          3519.570068359375,
          14152.0966796875,
          40863.1015625,
          4795.5400390625,
          5872.46875,
          2450.72705078125,
          4650.60400390625,
          6570.3896484375,
          5455.81005859375,
          12556.0380859375,
          2540.74072265625,
          3370.24853515625,
          7937.51708984375,
          4669.98974609375,
          11754.7275390625,
          4103.1396484375,
          5872.46875,
          14011.126953125,
          5635.828125,
          10267.181640625,
          6875.763671875,
          7599.3662109375,
          13688.0771484375,
          20655.736328125,
          45267.9296875,
          12346.86328125,
          6957.20166015625,
          46937.76953125,
          11214.2177734375,
          9098.4404296875,
          10820.6259765625,
          10759.0380859375,
          9048.060546875,
          12570.26171875,
          14449.1904296875,
          3289.7763671875,
          14917.8798828125,
          7537.1328125,
          40125.1171875,
          6760.197265625,
          11718.671875,
          10709.138671875,
          14637.51171875,
          10158.771484375,
          10651.294921875,
          39947.01171875,
          4929.03759765625,
          11662.8798828125,
          46985.9765625,
          5877.34716796875,
          4901.52587890625,
          3356.551025390625,
          11949.4111328125,
          15973.82421875,
          13194.27734375,
          10639.3798828125,
          11689.4384765625,
          12004.1298828125,
          5147.1923828125,
          3737.498046875,
          38820.90625,
          39861.890625,
          7552.22509765625,
          5055.23095703125,
          17835.658203125,
          16634.19921875,
          40781.04296875,
          3870.314208984375,
          45167.90625,
          6803.38134765625,
          2981.01806640625,
          7138.66259765625,
          4061.4765625,
          18193.859375,
          14449.8251953125,
          3711.77587890625,
          13325.935546875,
          12219.9921875,
          12844.1884765625,
          43781.5234375,
          13505.9541015625,
          24024.638671875,
          7595.60595703125,
          16915.939453125,
          5455.81005859375,
          9520.7353515625,
          9292.845703125,
          16297.1865234375,
          12281.5224609375,
          4645.61572265625,
          12387.07421875,
          14381.1923828125,
          12684.83984375,
          5702.666015625,
          34509.65234375,
          6583.2177734375,
          4741.009765625,
          6836.076171875,
          11492.3291015625,
          44212.5078125,
          9638.4599609375,
          14348.1171875,
          7304.8525390625,
          6713.4931640625,
          6419.41748046875,
          3356.551025390625,
          8992.7021484375,
          6812.8681640625,
          3212.217529296875,
          11926.9697265625,
          9494.9658203125,
          6629.359375,
          4212.93115234375,
          11188.8203125,
          4790.548828125,
          40093.20703125,
          38684.26953125,
          48233.27734375,
          4695.38720703125,
          9462.8916015625,
          6604.146484375,
          3785.93115234375,
          23484.21484375,
          7068.9296875,
          18153.5546875,
          45246.2265625,
          6440.74169921875,
          14412.91015625,
          7045.70068359375,
          10766.1904296875,
          11812.8818359375,
          21191.955078125,
          13065.599609375,
          6534.69189453125,
          5521.7509765625,
          3954.91943359375,
          12169.599609375,
          20764.6875,
          13321.0556640625,
          11356.9931640625,
          4510.267578125,
          5877.34716796875,
          6346.490234375,
          10484.119140625,
          9777.8037109375,
          24133.970703125,
          45879.14453125,
          12052.8984375,
          8992.7021484375,
          14705.2412109375,
          12160.82421875,
          7436.60791015625,
          4235.595703125,
          7545.734375,
          6180.9990234375,
          10508.19140625,
          5552.4384765625,
          12203.759765625,
          10630.2109375,
          6086.64404296875,
          3274.0966796875,
          12681.63671875,
          3711.77587890625
         ],
         "y": [
          -0.18833267145331475,
          -0.06908035480846897,
          0.40605362265613887,
          -0.13209491147578026,
          -0.17101239775863025,
          -0.193127309084836,
          -0.07974801056180711,
          -0.11410768894949197,
          -0.2365692995922156,
          -0.26392679182644146,
          -0.01975927870453631,
          -0.09783196985050972,
          -0.39040779376928875,
          0.10439512089871233,
          0.3813316579660379,
          -0.3450351337199582,
          -0.42500648197112373,
          -0.4016778998210593,
          -0.2970038749279613,
          -0.6193444863925854,
          -0.48136443761314784,
          -0.45916806781893227,
          -0.3155003010428949,
          -0.17739420032039405,
          -0.12266273948783943,
          -0.34557994809909176,
          -0.47458585800969144,
          2.791601273433791,
          -0.38926381389483505,
          -0.42380758073282515,
          1.7819244747083247,
          -0.08592644716688581,
          -0.4459099040829784,
          -0.09865461728649204,
          -0.588574915083344,
          -0.48777761974398914,
          -0.3663527667382987,
          -0.3460637091275066,
          -0.14654423174979936,
          -0.5510723665038196,
          -0.5610651246471177,
          -0.41735018697391674,
          -0.4540336548458252,
          -0.46984924309999754,
          -0.5116563815927628,
          -0.8719716798485285,
          -0.5521677968495045,
          -0.5145403579959115,
          -0.2138983590462828,
          -0.541002301374758,
          -0.18632026935686655,
          -0.48639420685215345,
          4.9043205722307075,
          -0.25090886453627453,
          -0.37499592445934204,
          3.1404560386356217,
          -0.29615282701416357,
          -0.3099493747286864,
          -0.10548604458498756,
          -0.38242999982742104,
          -0.12270105645441234,
          -0.26652971857589763,
          2.503111172700386,
          0.04900976737411393,
          2.78574850659124,
          -0.3754560165608288,
          -0.06521480171239817,
          3.286019641192006,
          -0.4466133329971258,
          -0.3430520067994246,
          -0.3257306354973797,
          -0.1568484881948986,
          -0.5739097957597795,
          -0.3380000381767544,
          -0.5359549718596034,
          -0.1857291437318433,
          -0.45462683008275323,
          -0.1606156240594307,
          -0.579415390673776,
          -0.09220614701595435,
          -0.5574456060703213,
          0.26072793437886177,
          -0.4068449411596664,
          0.14842282882358082,
          1.554644270461729,
          -0.2570642857151789,
          -0.4234890144775389,
          -0.36734359840025793,
          -0.3049984133737699,
          -0.5157524753026045,
          -0.45312347795316804,
          0.014523348853823094,
          -0.3108779833519653,
          -0.41476168805786773,
          -0.925573604677971,
          -0.15264980576890552,
          -0.2159054196097533,
          -0.5008845681988799,
          0.0957024194772035,
          -0.2094311243012934,
          -0.263201676652412,
          -0.20549849822326688,
          -0.252381251019637,
          -0.33461839621695105,
          -0.11354858675351918,
          -0.5157695998515167,
          -0.4535770173873692,
          -0.16958141112916925,
          -0.16463502734295435,
          -0.3331639365395966,
          4.718990956622855,
          -0.4811048463545358,
          -0.16159346517517784,
          -0.5511377753248875,
          -0.394923639311558,
          -0.6124249066808165,
          3.7403012597223255,
          -0.43500904325643386,
          -0.31243962580261087,
          -0.7239615065221523,
          -0.13278603001429176,
          -0.10518918513255478,
          -0.24199084149694983,
          -0.6444056906852013,
          -0.40488265688567515,
          -0.00610496710044106,
          -0.4785563948801016,
          -0.49467782905550284,
          -0.5744914620672603,
          -0.5711988603735404,
          -0.16578822335302107,
          -0.3315761922615188,
          -0.43202558445065714,
          -0.40257688620032694,
          -0.1673791171929834,
          -1.082675384106704,
          1.6593132871946312,
          -3.4799584659090845,
          -0.7273992497151468,
          -0.6507187063685062,
          -0.07274198935994299,
          -0.2421565454294275,
          -0.5964025054854922,
          4.889034886320821,
          -0.6105631759271918,
          -0.20358397167263662,
          -0.3485226116270122,
          -0.15332028060333555,
          -0.13877726293556747,
          -0.3151114590843247,
          -0.03606529976760273,
          -0.5628714412758851,
          -0.34936612324361593,
          -0.5807019670616654,
          -0.11318845548965338,
          -0.13899447007966373,
          -0.16257959483929696,
          -0.5247747350008332,
          -0.0595952408801017,
          -0.230608319079611,
          -0.052654068523132494,
          -0.21486564287672408,
          -0.4083757186967296,
          -0.669429732922682,
          -0.6413827612628239,
          -0.2597513467447753,
          0.5093712661443918,
          -0.11996240589667619,
          -0.564814951256196,
          -0.4671931651961696,
          -0.27697014392699054,
          -0.1626960197873183,
          -0.2709135054282746,
          -0.3161254543881956,
          -0.249895186927655,
          -0.49770548354151345,
          -0.32170061176792375,
          -0.14256394994246324,
          3.7415694993818263,
          -0.052201949076781475,
          0.5879717325361002,
          -0.27620885780609744,
          -0.38663224591835454,
          -0.1725409568349794,
          -0.3092376643841268,
          -0.44064537436148526,
          3.2203863443003877,
          -0.235884135271795,
          -0.4676441926214069,
          -0.34552859283290743,
          -0.6766700936563205,
          0.9688782656591343,
          -0.2669168680819436,
          -0.9607713480918046,
          -0.3785425423375477,
          -0.34327924990587594,
          -0.22725896742728552,
          -0.30604526265542276,
          -0.1941811071166795,
          -0.3795404038403742,
          -0.3242662755494027,
          -0.21894632791637286,
          -0.39183774568171464,
          4.1847186050069745,
          -0.43489605186786706,
          -0.43757966095745526,
          -0.4233962867480821,
          -0.13294507658241073,
          -0.7219468369501809,
          -0.4471085633106573,
          -0.12103530618893771,
          2.180065540223308,
          -0.09435159116190155,
          -0.5233399475612525,
          -0.293736222673056,
          -0.1959111905804451,
          -0.28167854450702284,
          -0.5490398384222103,
          -0.40395022817071613,
          -0.2842695965179787,
          -0.34059837564441087,
          -0.5414718171138894,
          -0.24112252613444699,
          -0.7614142600201139,
          -0.3009506015033633,
          -0.866641575971088,
          -0.10120505061706586,
          -0.2601054716222151,
          -0.4406552039931184,
          -0.36818810662127904,
          -0.5557964426324715,
          -0.1924550799887658,
          -0.46126900922128306,
          3.1176823421105007,
          -0.19000771975598593,
          -0.6877342353358216,
          -0.6167100146490714,
          -0.090454049595872,
          -0.13684742520375687,
          -0.4255495173109106,
          -0.2186201253520581,
          0.8585905204951375,
          -0.40912508629015715,
          -0.5719144681162258,
          -0.18883752128352566,
          -0.4500218354326925,
          3.1386273107422613,
          -0.31814948795111403,
          0.008418187135757423,
          -0.212067016753464,
          -0.34481157807688,
          -0.17083681283709068,
          -0.34795572490627397,
          0.06332924633774588,
          -0.3191982525945515,
          2.847631846407892,
          -0.4299823439302477,
          -0.5405003176494663,
          -0.364052659786217,
          -0.17588419226806185,
          0.10617481581870959,
          -0.06297862034280585,
          -0.555710490119157,
          0.41232466310213983,
          -0.028593505341540322,
          -0.20530283182633804,
          3.882586076093688,
          -0.3094314752461704,
          0.022004320942476806,
          -0.5272734468957672,
          3.7733227747348237,
          -0.10408040906349371,
          -0.021891840244972104,
          -0.24076077197583745,
          -0.26279027319525544,
          -0.2698715096939269,
          -0.21382522750956529,
          -0.24861053581263237,
          4.755176316633517,
          -0.616005335947394,
          -0.39695765765960406,
          0.06089484115148185,
          -0.01425500214474249,
          -0.4188817049589593,
          -0.3532613121889115,
          -0.5092273754237563,
          -0.41178717715776575,
          0.0654785806737583,
          -0.37832988420021485,
          -0.5459977849350336,
          -0.2653881406973898,
          -0.22695935575728426,
          -0.22310267127822636,
          -0.5668203056718282,
          -0.19617779041614689,
          -0.29213329641827773,
          -0.6226444570664031,
          -0.4078683451444573,
          -0.3648585223531218,
          -0.16022877648100442,
          -1.0080329406721722,
          -0.2758563596977338,
          4.3835268248865,
          -0.3194066761767448,
          -0.8553518321000297,
          -0.8836012116752783,
          -0.3253647101244593,
          0.39704416086871464,
          -0.3873190916990077,
          2.572301719214777,
          -0.1671081139533331,
          -0.5399985415163069,
          -0.5480140918178694,
          -0.2277297676427361,
          -0.37105845330348114,
          -0.2815446492034031,
          1.9747770707811907,
          -0.14032058177649367,
          -0.42262974991576846,
          -0.1989600598291026,
          -0.6460642838875466,
          0.08278567641266689,
          -0.40269885594862237,
          -0.41436867200176264,
          -0.29710967771813557,
          -0.2917540663178228,
          -0.5483577602327451,
          -0.3435793863226566,
          3.0523620485276033,
          -0.4118771420377653,
          -0.2685084020877486,
          -0.1707434895416638,
          1.9965054214097644,
          -0.4523921200584403,
          -0.20375866081249996,
          -0.5508206545559642,
          -0.5756380532417068,
          -0.48460840256057125,
          -0.4616317618764254,
          -0.18802794890826077,
          -0.021203088473012353,
          -0.039430981280208485,
          -0.3232263278051463,
          -0.5797103670204934,
          -0.2659668498981921,
          4.462651135572297,
          -0.30640618680590564,
          -0.3667527965072365,
          -0.14476707839181316,
          -0.33867485136239006,
          1.1783135796237685,
          -0.29970817781764936,
          -0.3062665115390496,
          -0.5344839408519532,
          -0.025321876399848595,
          -0.5481519229025344,
          -0.8840820584849722,
          -0.3513771802259386,
          -0.39691195963943254,
          -0.09660546327353156,
          -0.43950579428694997,
          -0.3950876266445099,
          -0.04854198048821085,
          -0.22466835853182746,
          -0.5733520234509051,
          -0.2220555143926062,
          -0.40935211531722193,
          -0.2436156029481534,
          -0.27660487511824927,
          -0.33260164333539366,
          -0.36839425029404577,
          -0.343557969373922,
          -0.04006488818386182,
          -0.34356734958300417,
          -0.31592072691904793,
          -0.11791705035121625,
          0.07322754807856037,
          -0.5797746937315301,
          -0.3765405659793069,
          -0.30193639698379326,
          -0.5922268088425265,
          -0.08690434846993536,
          -0.5109246355439956,
          -0.08370200376285251,
          -0.038424762392035385,
          0.4725916706812537,
          -0.04854344516603441,
          -0.36248068169811565,
          -0.4048438726566022,
          -0.25998896765583424,
          -0.312357633217344,
          -0.056685269869416355,
          -0.0019768479793324852,
          -0.6220078505640204,
          -0.5516210584589136,
          2.7849178926269733,
          -0.08455914122607053,
          -0.2510747005564546,
          -0.3890998620615795,
          -0.24755726919502458,
          -0.30408868698487246,
          -0.4029584443240102
         ]
        }
       ],
       "layout": {
        "shapes": [
         {
          "line": {
           "color": "red",
           "dash": "dash",
           "width": 2
          },
          "name": "Média dos Resíduos Padronizados",
          "type": "line",
          "x0": 2170.44384765625,
          "x1": 48233.27734375,
          "y0": -0.05673806835540524,
          "y1": -0.05673806835540524
         }
        ],
        "template": {
         "data": {
          "bar": [
           {
            "error_x": {
             "color": "#2a3f5f"
            },
            "error_y": {
             "color": "#2a3f5f"
            },
            "marker": {
             "line": {
              "color": "#E5ECF6",
              "width": 0.5
             },
             "pattern": {
              "fillmode": "overlay",
              "size": 10,
              "solidity": 0.2
             }
            },
            "type": "bar"
           }
          ],
          "barpolar": [
           {
            "marker": {
             "line": {
              "color": "#E5ECF6",
              "width": 0.5
             },
             "pattern": {
              "fillmode": "overlay",
              "size": 10,
              "solidity": 0.2
             }
            },
            "type": "barpolar"
           }
          ],
          "carpet": [
           {
            "aaxis": {
             "endlinecolor": "#2a3f5f",
             "gridcolor": "white",
             "linecolor": "white",
             "minorgridcolor": "white",
             "startlinecolor": "#2a3f5f"
            },
            "baxis": {
             "endlinecolor": "#2a3f5f",
             "gridcolor": "white",
             "linecolor": "white",
             "minorgridcolor": "white",
             "startlinecolor": "#2a3f5f"
            },
            "type": "carpet"
           }
          ],
          "choropleth": [
           {
            "colorbar": {
             "outlinewidth": 0,
             "ticks": ""
            },
            "type": "choropleth"
           }
          ],
          "contour": [
           {
            "colorbar": {
             "outlinewidth": 0,
             "ticks": ""
            },
            "colorscale": [
             [
              0,
              "#0d0887"
             ],
             [
              0.1111111111111111,
              "#46039f"
             ],
             [
              0.2222222222222222,
              "#7201a8"
             ],
             [
              0.3333333333333333,
              "#9c179e"
             ],
             [
              0.4444444444444444,
              "#bd3786"
             ],
             [
              0.5555555555555556,
              "#d8576b"
             ],
             [
              0.6666666666666666,
              "#ed7953"
             ],
             [
              0.7777777777777778,
              "#fb9f3a"
             ],
             [
              0.8888888888888888,
              "#fdca26"
             ],
             [
              1,
              "#f0f921"
             ]
            ],
            "type": "contour"
           }
          ],
          "contourcarpet": [
           {
            "colorbar": {
             "outlinewidth": 0,
             "ticks": ""
            },
            "type": "contourcarpet"
           }
          ],
          "heatmap": [
           {
            "colorbar": {
             "outlinewidth": 0,
             "ticks": ""
            },
            "colorscale": [
             [
              0,
              "#0d0887"
             ],
             [
              0.1111111111111111,
              "#46039f"
             ],
             [
              0.2222222222222222,
              "#7201a8"
             ],
             [
              0.3333333333333333,
              "#9c179e"
             ],
             [
              0.4444444444444444,
              "#bd3786"
             ],
             [
              0.5555555555555556,
              "#d8576b"
             ],
             [
              0.6666666666666666,
              "#ed7953"
             ],
             [
              0.7777777777777778,
              "#fb9f3a"
             ],
             [
              0.8888888888888888,
              "#fdca26"
             ],
             [
              1,
              "#f0f921"
             ]
            ],
            "type": "heatmap"
           }
          ],
          "heatmapgl": [
           {
            "colorbar": {
             "outlinewidth": 0,
             "ticks": ""
            },
            "colorscale": [
             [
              0,
              "#0d0887"
             ],
             [
              0.1111111111111111,
              "#46039f"
             ],
             [
              0.2222222222222222,
              "#7201a8"
             ],
             [
              0.3333333333333333,
              "#9c179e"
             ],
             [
              0.4444444444444444,
              "#bd3786"
             ],
             [
              0.5555555555555556,
              "#d8576b"
             ],
             [
              0.6666666666666666,
              "#ed7953"
             ],
             [
              0.7777777777777778,
              "#fb9f3a"
             ],
             [
              0.8888888888888888,
              "#fdca26"
             ],
             [
              1,
              "#f0f921"
             ]
            ],
            "type": "heatmapgl"
           }
          ],
          "histogram": [
           {
            "marker": {
             "pattern": {
              "fillmode": "overlay",
              "size": 10,
              "solidity": 0.2
             }
            },
            "type": "histogram"
           }
          ],
          "histogram2d": [
           {
            "colorbar": {
             "outlinewidth": 0,
             "ticks": ""
            },
            "colorscale": [
             [
              0,
              "#0d0887"
             ],
             [
              0.1111111111111111,
              "#46039f"
             ],
             [
              0.2222222222222222,
              "#7201a8"
             ],
             [
              0.3333333333333333,
              "#9c179e"
             ],
             [
              0.4444444444444444,
              "#bd3786"
             ],
             [
              0.5555555555555556,
              "#d8576b"
             ],
             [
              0.6666666666666666,
              "#ed7953"
             ],
             [
              0.7777777777777778,
              "#fb9f3a"
             ],
             [
              0.8888888888888888,
              "#fdca26"
             ],
             [
              1,
              "#f0f921"
             ]
            ],
            "type": "histogram2d"
           }
          ],
          "histogram2dcontour": [
           {
            "colorbar": {
             "outlinewidth": 0,
             "ticks": ""
            },
            "colorscale": [
             [
              0,
              "#0d0887"
             ],
             [
              0.1111111111111111,
              "#46039f"
             ],
             [
              0.2222222222222222,
              "#7201a8"
             ],
             [
              0.3333333333333333,
              "#9c179e"
             ],
             [
              0.4444444444444444,
              "#bd3786"
             ],
             [
              0.5555555555555556,
              "#d8576b"
             ],
             [
              0.6666666666666666,
              "#ed7953"
             ],
             [
              0.7777777777777778,
              "#fb9f3a"
             ],
             [
              0.8888888888888888,
              "#fdca26"
             ],
             [
              1,
              "#f0f921"
             ]
            ],
            "type": "histogram2dcontour"
           }
          ],
          "mesh3d": [
           {
            "colorbar": {
             "outlinewidth": 0,
             "ticks": ""
            },
            "type": "mesh3d"
           }
          ],
          "parcoords": [
           {
            "line": {
             "colorbar": {
              "outlinewidth": 0,
              "ticks": ""
             }
            },
            "type": "parcoords"
           }
          ],
          "pie": [
           {
            "automargin": true,
            "type": "pie"
           }
          ],
          "scatter": [
           {
            "fillpattern": {
             "fillmode": "overlay",
             "size": 10,
             "solidity": 0.2
            },
            "type": "scatter"
           }
          ],
          "scatter3d": [
           {
            "line": {
             "colorbar": {
              "outlinewidth": 0,
              "ticks": ""
             }
            },
            "marker": {
             "colorbar": {
              "outlinewidth": 0,
              "ticks": ""
             }
            },
            "type": "scatter3d"
           }
          ],
          "scattercarpet": [
           {
            "marker": {
             "colorbar": {
              "outlinewidth": 0,
              "ticks": ""
             }
            },
            "type": "scattercarpet"
           }
          ],
          "scattergeo": [
           {
            "marker": {
             "colorbar": {
              "outlinewidth": 0,
              "ticks": ""
             }
            },
            "type": "scattergeo"
           }
          ],
          "scattergl": [
           {
            "marker": {
             "colorbar": {
              "outlinewidth": 0,
              "ticks": ""
             }
            },
            "type": "scattergl"
           }
          ],
          "scattermapbox": [
           {
            "marker": {
             "colorbar": {
              "outlinewidth": 0,
              "ticks": ""
             }
            },
            "type": "scattermapbox"
           }
          ],
          "scatterpolar": [
           {
            "marker": {
             "colorbar": {
              "outlinewidth": 0,
              "ticks": ""
             }
            },
            "type": "scatterpolar"
           }
          ],
          "scatterpolargl": [
           {
            "marker": {
             "colorbar": {
              "outlinewidth": 0,
              "ticks": ""
             }
            },
            "type": "scatterpolargl"
           }
          ],
          "scatterternary": [
           {
            "marker": {
             "colorbar": {
              "outlinewidth": 0,
              "ticks": ""
             }
            },
            "type": "scatterternary"
           }
          ],
          "surface": [
           {
            "colorbar": {
             "outlinewidth": 0,
             "ticks": ""
            },
            "colorscale": [
             [
              0,
              "#0d0887"
             ],
             [
              0.1111111111111111,
              "#46039f"
             ],
             [
              0.2222222222222222,
              "#7201a8"
             ],
             [
              0.3333333333333333,
              "#9c179e"
             ],
             [
              0.4444444444444444,
              "#bd3786"
             ],
             [
              0.5555555555555556,
              "#d8576b"
             ],
             [
              0.6666666666666666,
              "#ed7953"
             ],
             [
              0.7777777777777778,
              "#fb9f3a"
             ],
             [
              0.8888888888888888,
              "#fdca26"
             ],
             [
              1,
              "#f0f921"
             ]
            ],
            "type": "surface"
           }
          ],
          "table": [
           {
            "cells": {
             "fill": {
              "color": "#EBF0F8"
             },
             "line": {
              "color": "white"
             }
            },
            "header": {
             "fill": {
              "color": "#C8D4E3"
             },
             "line": {
              "color": "white"
             }
            },
            "type": "table"
           }
          ]
         },
         "layout": {
          "annotationdefaults": {
           "arrowcolor": "#2a3f5f",
           "arrowhead": 0,
           "arrowwidth": 1
          },
          "autotypenumbers": "strict",
          "coloraxis": {
           "colorbar": {
            "outlinewidth": 0,
            "ticks": ""
           }
          },
          "colorscale": {
           "diverging": [
            [
             0,
             "#8e0152"
            ],
            [
             0.1,
             "#c51b7d"
            ],
            [
             0.2,
             "#de77ae"
            ],
            [
             0.3,
             "#f1b6da"
            ],
            [
             0.4,
             "#fde0ef"
            ],
            [
             0.5,
             "#f7f7f7"
            ],
            [
             0.6,
             "#e6f5d0"
            ],
            [
             0.7,
             "#b8e186"
            ],
            [
             0.8,
             "#7fbc41"
            ],
            [
             0.9,
             "#4d9221"
            ],
            [
             1,
             "#276419"
            ]
           ],
           "sequential": [
            [
             0,
             "#0d0887"
            ],
            [
             0.1111111111111111,
             "#46039f"
            ],
            [
             0.2222222222222222,
             "#7201a8"
            ],
            [
             0.3333333333333333,
             "#9c179e"
            ],
            [
             0.4444444444444444,
             "#bd3786"
            ],
            [
             0.5555555555555556,
             "#d8576b"
            ],
            [
             0.6666666666666666,
             "#ed7953"
            ],
            [
             0.7777777777777778,
             "#fb9f3a"
            ],
            [
             0.8888888888888888,
             "#fdca26"
            ],
            [
             1,
             "#f0f921"
            ]
           ],
           "sequentialminus": [
            [
             0,
             "#0d0887"
            ],
            [
             0.1111111111111111,
             "#46039f"
            ],
            [
             0.2222222222222222,
             "#7201a8"
            ],
            [
             0.3333333333333333,
             "#9c179e"
            ],
            [
             0.4444444444444444,
             "#bd3786"
            ],
            [
             0.5555555555555556,
             "#d8576b"
            ],
            [
             0.6666666666666666,
             "#ed7953"
            ],
            [
             0.7777777777777778,
             "#fb9f3a"
            ],
            [
             0.8888888888888888,
             "#fdca26"
            ],
            [
             1,
             "#f0f921"
            ]
           ]
          },
          "colorway": [
           "#636efa",
           "#EF553B",
           "#00cc96",
           "#ab63fa",
           "#FFA15A",
           "#19d3f3",
           "#FF6692",
           "#B6E880",
           "#FF97FF",
           "#FECB52"
          ],
          "font": {
           "color": "#2a3f5f"
          },
          "geo": {
           "bgcolor": "white",
           "lakecolor": "white",
           "landcolor": "#E5ECF6",
           "showlakes": true,
           "showland": true,
           "subunitcolor": "white"
          },
          "hoverlabel": {
           "align": "left"
          },
          "hovermode": "closest",
          "mapbox": {
           "style": "light"
          },
          "paper_bgcolor": "white",
          "plot_bgcolor": "#E5ECF6",
          "polar": {
           "angularaxis": {
            "gridcolor": "white",
            "linecolor": "white",
            "ticks": ""
           },
           "bgcolor": "#E5ECF6",
           "radialaxis": {
            "gridcolor": "white",
            "linecolor": "white",
            "ticks": ""
           }
          },
          "scene": {
           "xaxis": {
            "backgroundcolor": "#E5ECF6",
            "gridcolor": "white",
            "gridwidth": 2,
            "linecolor": "white",
            "showbackground": true,
            "ticks": "",
            "zerolinecolor": "white"
           },
           "yaxis": {
            "backgroundcolor": "#E5ECF6",
            "gridcolor": "white",
            "gridwidth": 2,
            "linecolor": "white",
            "showbackground": true,
            "ticks": "",
            "zerolinecolor": "white"
           },
           "zaxis": {
            "backgroundcolor": "#E5ECF6",
            "gridcolor": "white",
            "gridwidth": 2,
            "linecolor": "white",
            "showbackground": true,
            "ticks": "",
            "zerolinecolor": "white"
           }
          },
          "shapedefaults": {
           "line": {
            "color": "#2a3f5f"
           }
          },
          "ternary": {
           "aaxis": {
            "gridcolor": "white",
            "linecolor": "white",
            "ticks": ""
           },
           "baxis": {
            "gridcolor": "white",
            "linecolor": "white",
            "ticks": ""
           },
           "bgcolor": "#E5ECF6",
           "caxis": {
            "gridcolor": "white",
            "linecolor": "white",
            "ticks": ""
           }
          },
          "title": {
           "x": 0.05
          },
          "xaxis": {
           "automargin": true,
           "gridcolor": "white",
           "linecolor": "white",
           "ticks": "",
           "title": {
            "standoff": 15
           },
           "zerolinecolor": "white",
           "zerolinewidth": 2
          },
          "yaxis": {
           "automargin": true,
           "gridcolor": "white",
           "linecolor": "white",
           "ticks": "",
           "title": {
            "standoff": 15
           },
           "zerolinecolor": "white",
           "zerolinewidth": 2
          }
         }
        },
        "title": {
         "text": "Gráfico de Resíduos Padronizados vs. Valores Previstos"
        },
        "xaxis": {
         "title": {
          "text": "y_pred"
         }
        },
        "yaxis": {
         "title": {
          "text": "Resíduos Padronizados"
         }
        }
       }
      }
     },
     "metadata": {},
     "output_type": "display_data"
    }
   ],
   "source": [
    "standardized_residuals = (y_test - y_test_pred) / np.std(y_test - y_test_pred)\n",
    "mean_residuals = np.mean(standardized_residuals)\n",
    "\n",
    "fig = go.Figure()\n",
    "\n",
    "fig.add_trace(go.Scatter(x=y_test_pred, y=standardized_residuals, mode='markers', \n",
    "                         marker=dict(color='green'), name='Resíduos Padronizados'))\n",
    "\n",
    "fig.add_shape(type='line', x0=min(y_test_pred), y0=mean_residuals, \n",
    "              x1=max(y_test_pred), y1=mean_residuals,\n",
    "              line=dict(color='red', width=2, dash='dash'), \n",
    "              name='Média dos Resíduos Padronizados')\n",
    "\n",
    "fig.update_layout(xaxis_title='y_pred', yaxis_title='Resíduos Padronizados', \n",
    "                  title='Gráfico de Resíduos Padronizados vs. Valores Previstos')\n",
    "\n",
    "fig.show()"
   ]
  }
 ],
 "metadata": {
  "kernelspec": {
   "display_name": "Python 3",
   "language": "python",
   "name": "python3"
  },
  "language_info": {
   "codemirror_mode": {
    "name": "ipython",
    "version": 3
   },
   "file_extension": ".py",
   "mimetype": "text/x-python",
   "name": "python",
   "nbconvert_exporter": "python",
   "pygments_lexer": "ipython3",
   "version": "3.10.7"
  }
 },
 "nbformat": 4,
 "nbformat_minor": 2
}
